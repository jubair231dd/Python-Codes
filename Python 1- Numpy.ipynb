{
 "cells": [
  {
   "cell_type": "markdown",
   "id": "102886b9-ea4e-4de1-a96b-e2754ede700d",
   "metadata": {},
   "source": [
    "# Numpy Basics "
   ]
  },
  {
   "cell_type": "markdown",
   "id": "ef7f6d45-e4d7-409a-b7ab-92f2f666785c",
   "metadata": {},
   "source": [
    "## Importing numpy"
   ]
  },
  {
   "cell_type": "code",
   "execution_count": 1,
   "id": "2d7d62a0-83c0-4903-a0ab-e3315782122d",
   "metadata": {},
   "outputs": [],
   "source": [
    "import numpy as np"
   ]
  },
  {
   "cell_type": "markdown",
   "id": "2d491071-e0e5-4a95-8300-e8b120f9d723",
   "metadata": {},
   "source": [
    "### 1-D Array or Vector"
   ]
  },
  {
   "cell_type": "code",
   "execution_count": 2,
   "id": "3e34c4fe-cfb9-41af-93b0-8c3429d89d64",
   "metadata": {},
   "outputs": [],
   "source": [
    "array_1d = np.array([10,15,20])"
   ]
  },
  {
   "cell_type": "code",
   "execution_count": 3,
   "id": "c12d78c8-e3da-4608-bf4a-4b6983dcaf1d",
   "metadata": {},
   "outputs": [
    {
     "data": {
      "text/plain": [
       "array([10, 15, 20])"
      ]
     },
     "execution_count": 3,
     "metadata": {},
     "output_type": "execute_result"
    }
   ],
   "source": [
    "array_1d"
   ]
  },
  {
   "cell_type": "code",
   "execution_count": 4,
   "id": "5f78145c-9cd9-4e1f-8f91-861913cf8516",
   "metadata": {},
   "outputs": [
    {
     "data": {
      "text/plain": [
       "numpy.ndarray"
      ]
     },
     "execution_count": 4,
     "metadata": {},
     "output_type": "execute_result"
    }
   ],
   "source": [
    "type(array_1d)"
   ]
  },
  {
   "cell_type": "markdown",
   "id": "00308932-dbd9-4c91-b915-83163e17bbe0",
   "metadata": {},
   "source": [
    "### 2-D Array or Matrix"
   ]
  },
  {
   "cell_type": "code",
   "execution_count": 5,
   "id": "7f54e809-cb39-4710-8387-044a34b50709",
   "metadata": {},
   "outputs": [],
   "source": [
    "array_2d = np.array([[10,15,20],\n",
    "              [30,40,50],\n",
    "             [60,70,80]])"
   ]
  },
  {
   "cell_type": "code",
   "execution_count": 6,
   "id": "01e98561-5cc7-4ea4-87f4-49faea112e58",
   "metadata": {},
   "outputs": [
    {
     "data": {
      "text/plain": [
       "array([[10, 15, 20],\n",
       "       [30, 40, 50],\n",
       "       [60, 70, 80]])"
      ]
     },
     "execution_count": 6,
     "metadata": {},
     "output_type": "execute_result"
    }
   ],
   "source": [
    "array_2d"
   ]
  },
  {
   "cell_type": "code",
   "execution_count": 7,
   "id": "29a74a76-2789-46d8-8fee-00b36f74e24c",
   "metadata": {},
   "outputs": [
    {
     "data": {
      "text/plain": [
       "numpy.ndarray"
      ]
     },
     "execution_count": 7,
     "metadata": {},
     "output_type": "execute_result"
    }
   ],
   "source": [
    "type(array_2d)"
   ]
  },
  {
   "cell_type": "markdown",
   "id": "fb47a0e8-631f-4364-840f-a1a61bf12458",
   "metadata": {},
   "source": [
    "### Finding the dimention of array"
   ]
  },
  {
   "cell_type": "code",
   "execution_count": 8,
   "id": "4e4eccaa-3819-492c-b229-a1a4fe8a90f5",
   "metadata": {},
   "outputs": [
    {
     "data": {
      "text/plain": [
       "1"
      ]
     },
     "execution_count": 8,
     "metadata": {},
     "output_type": "execute_result"
    }
   ],
   "source": [
    "array_1d.ndim"
   ]
  },
  {
   "cell_type": "code",
   "execution_count": 9,
   "id": "27f24f45-89c6-45ad-b256-6a7c394c7e1d",
   "metadata": {},
   "outputs": [
    {
     "data": {
      "text/plain": [
       "2"
      ]
     },
     "execution_count": 9,
     "metadata": {},
     "output_type": "execute_result"
    }
   ],
   "source": [
    "array_2d.ndim"
   ]
  },
  {
   "cell_type": "code",
   "execution_count": null,
   "id": "8e900e66-ecaf-4012-8bf8-ebc21aea5dd5",
   "metadata": {},
   "outputs": [],
   "source": []
  },
  {
   "cell_type": "markdown",
   "id": "a709c1fb-03c4-4bad-a074-662fadc06dda",
   "metadata": {},
   "source": [
    "### Finding the size of the array"
   ]
  },
  {
   "cell_type": "code",
   "execution_count": 10,
   "id": "14906e60-e68f-4756-ae33-db9e0fc666f6",
   "metadata": {},
   "outputs": [
    {
     "data": {
      "text/plain": [
       "3"
      ]
     },
     "execution_count": 10,
     "metadata": {},
     "output_type": "execute_result"
    }
   ],
   "source": [
    "array_1d.size"
   ]
  },
  {
   "cell_type": "code",
   "execution_count": 11,
   "id": "334ad527-ce7c-459a-b2ef-e57ec9b2aa31",
   "metadata": {},
   "outputs": [
    {
     "data": {
      "text/plain": [
       "9"
      ]
     },
     "execution_count": 11,
     "metadata": {},
     "output_type": "execute_result"
    }
   ],
   "source": [
    "array_2d.size"
   ]
  },
  {
   "cell_type": "markdown",
   "id": "18c4b56e-ec9c-4832-99bd-68853d9b0c7e",
   "metadata": {},
   "source": [
    "### Finding the shape of the array"
   ]
  },
  {
   "cell_type": "code",
   "execution_count": 12,
   "id": "e133e202-b3b7-4816-af52-4028c4777e8f",
   "metadata": {},
   "outputs": [
    {
     "data": {
      "text/plain": [
       "(3,)"
      ]
     },
     "execution_count": 12,
     "metadata": {},
     "output_type": "execute_result"
    }
   ],
   "source": [
    "array_1d.shape"
   ]
  },
  {
   "cell_type": "code",
   "execution_count": 13,
   "id": "39c10433-71e9-4c64-b7ce-ae1788625290",
   "metadata": {},
   "outputs": [
    {
     "data": {
      "text/plain": [
       "(3, 3)"
      ]
     },
     "execution_count": 13,
     "metadata": {},
     "output_type": "execute_result"
    }
   ],
   "source": [
    "array_2d.shape   #(row, column)"
   ]
  },
  {
   "cell_type": "markdown",
   "id": "f60872e9-f20d-4866-9c20-d3c8866f6f03",
   "metadata": {},
   "source": [
    "### Finding the data type of the array"
   ]
  },
  {
   "cell_type": "code",
   "execution_count": 14,
   "id": "0a60eabd-27a6-440e-9071-55cc61ad9717",
   "metadata": {},
   "outputs": [
    {
     "data": {
      "text/plain": [
       "dtype('int64')"
      ]
     },
     "execution_count": 14,
     "metadata": {},
     "output_type": "execute_result"
    }
   ],
   "source": [
    "array_1d.dtype"
   ]
  },
  {
   "cell_type": "code",
   "execution_count": 15,
   "id": "7d043274-e590-4d1b-ad02-fea7c0b8bbbd",
   "metadata": {},
   "outputs": [
    {
     "data": {
      "text/plain": [
       "dtype('int64')"
      ]
     },
     "execution_count": 15,
     "metadata": {},
     "output_type": "execute_result"
    }
   ],
   "source": [
    "array_2d.dtype"
   ]
  },
  {
   "cell_type": "markdown",
   "id": "fcbc3cd7-e264-4ab8-85f1-afca1f199098",
   "metadata": {},
   "source": [
    "### Creating ones matrix"
   ]
  },
  {
   "cell_type": "code",
   "execution_count": 16,
   "id": "09cdfe2a-4a46-4241-9da9-ef51cb5190de",
   "metadata": {},
   "outputs": [
    {
     "data": {
      "text/plain": [
       "array([[1, 2, 3],\n",
       "       [4, 5, 6],\n",
       "       [7, 8, 9]])"
      ]
     },
     "execution_count": 16,
     "metadata": {},
     "output_type": "execute_result"
    }
   ],
   "source": [
    "arr_1s = np.array([[1,2,3],[4,5,6],[7,8,9]])\n",
    "arr_1s"
   ]
  },
  {
   "cell_type": "code",
   "execution_count": 17,
   "id": "0a3eb581-04f7-4a34-b50c-dfe6b8262f3d",
   "metadata": {},
   "outputs": [],
   "source": [
    "arr_1s = np.ones(5)  # creates a natrix of one row and five columns"
   ]
  },
  {
   "cell_type": "code",
   "execution_count": 18,
   "id": "91b8a66f-4a96-4be4-ab58-55d07c88ed8e",
   "metadata": {},
   "outputs": [
    {
     "data": {
      "text/plain": [
       "array([1., 1., 1., 1., 1.])"
      ]
     },
     "execution_count": 18,
     "metadata": {},
     "output_type": "execute_result"
    }
   ],
   "source": [
    "arr_1s"
   ]
  },
  {
   "cell_type": "code",
   "execution_count": 19,
   "id": "e8bb3f80-c50b-49b4-90e6-76a55e6230dc",
   "metadata": {},
   "outputs": [
    {
     "data": {
      "text/plain": [
       "dtype('float64')"
      ]
     },
     "execution_count": 19,
     "metadata": {},
     "output_type": "execute_result"
    }
   ],
   "source": [
    "arr_1s.dtype"
   ]
  },
  {
   "cell_type": "code",
   "execution_count": 20,
   "id": "b4e60377-3fbd-4c12-b06e-fabbbfd31995",
   "metadata": {},
   "outputs": [],
   "source": [
    "arr_1s = np.ones((3,4))  #creates an ones matrix of 3 rows and 4 columns"
   ]
  },
  {
   "cell_type": "code",
   "execution_count": 21,
   "id": "5c42d39d-58ed-4213-9885-56974c9b3106",
   "metadata": {},
   "outputs": [
    {
     "data": {
      "text/plain": [
       "array([[1., 1., 1., 1.],\n",
       "       [1., 1., 1., 1.],\n",
       "       [1., 1., 1., 1.]])"
      ]
     },
     "execution_count": 21,
     "metadata": {},
     "output_type": "execute_result"
    }
   ],
   "source": [
    "arr_1s"
   ]
  },
  {
   "cell_type": "code",
   "execution_count": 22,
   "id": "0cc86aae-58ff-4b48-a92f-cc43df464409",
   "metadata": {},
   "outputs": [],
   "source": [
    "arr_1s = np.ones((3,3), dtype = int) # creates an ones matrix of 3 rows and 4 columns with integer values"
   ]
  },
  {
   "cell_type": "code",
   "execution_count": 23,
   "id": "b209196f-ce2f-4caf-99cf-78f44f37d48b",
   "metadata": {},
   "outputs": [
    {
     "data": {
      "text/plain": [
       "array([[1, 1, 1],\n",
       "       [1, 1, 1],\n",
       "       [1, 1, 1]])"
      ]
     },
     "execution_count": 23,
     "metadata": {},
     "output_type": "execute_result"
    }
   ],
   "source": [
    "arr_1s"
   ]
  },
  {
   "cell_type": "code",
   "execution_count": 24,
   "id": "131ae7d9-881a-4b85-8472-d75c40d1cbbb",
   "metadata": {},
   "outputs": [],
   "source": [
    "arr_1s = np.ones((4,4), dtype=bool)"
   ]
  },
  {
   "cell_type": "code",
   "execution_count": 25,
   "id": "642beb2d-d8b8-4035-9432-adc5d04fff88",
   "metadata": {},
   "outputs": [
    {
     "data": {
      "text/plain": [
       "array([[ True,  True,  True,  True],\n",
       "       [ True,  True,  True,  True],\n",
       "       [ True,  True,  True,  True],\n",
       "       [ True,  True,  True,  True]])"
      ]
     },
     "execution_count": 25,
     "metadata": {},
     "output_type": "execute_result"
    }
   ],
   "source": [
    "arr_1s"
   ]
  },
  {
   "cell_type": "markdown",
   "id": "ca23743d-af2d-4416-9938-ef546a49e6e3",
   "metadata": {},
   "source": [
    "### Creating zeros matrix"
   ]
  },
  {
   "cell_type": "code",
   "execution_count": 26,
   "id": "44a297b0-3bf8-4550-b7ae-38db7549888c",
   "metadata": {},
   "outputs": [],
   "source": [
    "arr_0s = np.zeros((4,4))"
   ]
  },
  {
   "cell_type": "code",
   "execution_count": 27,
   "id": "1d97d6a7-d49e-4f92-93d1-412b9bf54151",
   "metadata": {},
   "outputs": [
    {
     "data": {
      "text/plain": [
       "array([[0., 0., 0., 0.],\n",
       "       [0., 0., 0., 0.],\n",
       "       [0., 0., 0., 0.],\n",
       "       [0., 0., 0., 0.]])"
      ]
     },
     "execution_count": 27,
     "metadata": {},
     "output_type": "execute_result"
    }
   ],
   "source": [
    "arr_0s"
   ]
  },
  {
   "cell_type": "code",
   "execution_count": 28,
   "id": "e5dcd327-0439-438e-b7e1-d48ddf4f4c86",
   "metadata": {},
   "outputs": [],
   "source": [
    "arr_0s = np.zeros((4,4), dtype = int) #creates matrix of 4 by 4 with zeros and int values "
   ]
  },
  {
   "cell_type": "code",
   "execution_count": 29,
   "id": "c52f34cf-3eaf-49ef-94cd-2af06d41fee1",
   "metadata": {},
   "outputs": [
    {
     "data": {
      "text/plain": [
       "array([[0, 0, 0, 0],\n",
       "       [0, 0, 0, 0],\n",
       "       [0, 0, 0, 0],\n",
       "       [0, 0, 0, 0]])"
      ]
     },
     "execution_count": 29,
     "metadata": {},
     "output_type": "execute_result"
    }
   ],
   "source": [
    "arr_0s"
   ]
  },
  {
   "cell_type": "code",
   "execution_count": 30,
   "id": "5d9b63dc-1546-4f73-8663-a806133e7546",
   "metadata": {},
   "outputs": [],
   "source": [
    "arr_0s = np.zeros((4,4), dtype = bool) #creates matrix of 4 by 4 with zeros and boolean values "
   ]
  },
  {
   "cell_type": "code",
   "execution_count": 31,
   "id": "9f4a476a-869f-458d-bc95-bff175179648",
   "metadata": {},
   "outputs": [
    {
     "data": {
      "text/plain": [
       "array([[False, False, False, False],\n",
       "       [False, False, False, False],\n",
       "       [False, False, False, False],\n",
       "       [False, False, False, False]])"
      ]
     },
     "execution_count": 31,
     "metadata": {},
     "output_type": "execute_result"
    }
   ],
   "source": [
    "arr_0s"
   ]
  },
  {
   "cell_type": "code",
   "execution_count": 32,
   "id": "121c995b-e08a-4c5e-a39c-eeb3a52f45c3",
   "metadata": {},
   "outputs": [],
   "source": [
    "arr_0s = np.zeros((4,4), dtype = str) #creates matrix of 4 by 4 with zeros and string values "
   ]
  },
  {
   "cell_type": "code",
   "execution_count": 33,
   "id": "20b576b2-49a1-4e58-b6f7-056e9dc67b10",
   "metadata": {},
   "outputs": [
    {
     "data": {
      "text/plain": [
       "array([['', '', '', ''],\n",
       "       ['', '', '', ''],\n",
       "       ['', '', '', ''],\n",
       "       ['', '', '', '']], dtype='<U1')"
      ]
     },
     "execution_count": 33,
     "metadata": {},
     "output_type": "execute_result"
    }
   ],
   "source": [
    "arr_0s"
   ]
  },
  {
   "cell_type": "markdown",
   "id": "01d428fa-d2f6-4856-8eb4-301022b46920",
   "metadata": {},
   "source": [
    "### Creating an empty matrix"
   ]
  },
  {
   "cell_type": "code",
   "execution_count": 34,
   "id": "2734f14b-4f06-4f01-8c7d-668b82a46790",
   "metadata": {},
   "outputs": [],
   "source": [
    "arr_em = np.empty((3,3))"
   ]
  },
  {
   "cell_type": "code",
   "execution_count": 35,
   "id": "37c34d63-7c7a-459f-a807-a8dd1b901c8f",
   "metadata": {},
   "outputs": [
    {
     "data": {
      "text/plain": [
       "array([[2.31778605e-310, 2.31778605e-310, 0.00000000e+000],\n",
       "       [0.00000000e+000, 0.00000000e+000, 0.00000000e+000],\n",
       "       [1.23075756e-312, 2.42092166e-322, 2.31778605e-310]])"
      ]
     },
     "execution_count": 35,
     "metadata": {},
     "output_type": "execute_result"
    }
   ],
   "source": [
    "arr_em"
   ]
  },
  {
   "cell_type": "markdown",
   "id": "e5ad23b5-0e68-46da-bc4d-ffe3b1512921",
   "metadata": {},
   "source": [
    "# Numpy Functions"
   ]
  },
  {
   "cell_type": "markdown",
   "id": "b581c777-878d-4adf-a6c8-b8458b264bef",
   "metadata": {},
   "source": [
    " ## arange()"
   ]
  },
  {
   "cell_type": "code",
   "execution_count": 36,
   "id": "7ea31f31-66cf-488a-99f9-689f1a1d9ea0",
   "metadata": {},
   "outputs": [
    {
     "data": {
      "text/plain": [
       "array([ 1,  2,  3,  4,  5,  6,  7,  8,  9, 10, 11, 12])"
      ]
     },
     "execution_count": 36,
     "metadata": {},
     "output_type": "execute_result"
    }
   ],
   "source": [
    "#np.arange(start, end , steps, dtype)\n",
    "\n",
    "arr_1d = np.arange(1,13,1)\n",
    "arr_1d"
   ]
  },
  {
   "cell_type": "markdown",
   "id": "d6b45663",
   "metadata": {},
   "source": [
    "## linspace()"
   ]
  },
  {
   "cell_type": "code",
   "execution_count": 37,
   "id": "8cbdba44",
   "metadata": {},
   "outputs": [
    {
     "data": {
      "text/plain": [
       "array([ 1.,  2.,  3.,  4.,  5.,  6.,  7.,  8.,  9., 10.])"
      ]
     },
     "execution_count": 37,
     "metadata": {},
     "output_type": "execute_result"
    }
   ],
   "source": [
    "np.linspace(1,10, 10)"
   ]
  },
  {
   "cell_type": "markdown",
   "id": "4525a24c",
   "metadata": {},
   "source": [
    "## reshape()"
   ]
  },
  {
   "cell_type": "code",
   "execution_count": 38,
   "id": "b0cb8abd",
   "metadata": {},
   "outputs": [
    {
     "data": {
      "text/plain": [
       "array([ 1,  2,  3,  4,  5,  6,  7,  8,  9, 10, 11, 12])"
      ]
     },
     "execution_count": 38,
     "metadata": {},
     "output_type": "execute_result"
    }
   ],
   "source": [
    "arr_1d = np.array([1,2,3,4,5,6,7,8,9,10,11,12])\n",
    "arr_1d"
   ]
  },
  {
   "cell_type": "code",
   "execution_count": 39,
   "id": "51b2ab09",
   "metadata": {},
   "outputs": [
    {
     "data": {
      "text/plain": [
       "array([[ 1,  2,  3,  4],\n",
       "       [ 5,  6,  7,  8],\n",
       "       [ 9, 10, 11, 12]])"
      ]
     },
     "execution_count": 39,
     "metadata": {},
     "output_type": "execute_result"
    }
   ],
   "source": [
    "arr_2d = arr_1d.reshape(3,4)\n",
    "arr_2d"
   ]
  },
  {
   "cell_type": "code",
   "execution_count": 40,
   "id": "0454b113",
   "metadata": {},
   "outputs": [
    {
     "data": {
      "text/plain": [
       "array([[[ 1,  2],\n",
       "        [ 3,  4]],\n",
       "\n",
       "       [[ 5,  6],\n",
       "        [ 7,  8]],\n",
       "\n",
       "       [[ 9, 10],\n",
       "        [11, 12]]])"
      ]
     },
     "execution_count": 40,
     "metadata": {},
     "output_type": "execute_result"
    }
   ],
   "source": [
    "arr_3d = arr_1d.reshape(3,2,2)\n",
    "arr_3d"
   ]
  },
  {
   "cell_type": "code",
   "execution_count": 41,
   "id": "a89dfc39",
   "metadata": {},
   "outputs": [
    {
     "data": {
      "text/plain": [
       "array([[ 1,  2,  3,  4],\n",
       "       [ 5,  6,  7,  8],\n",
       "       [ 9, 10, 11, 12]])"
      ]
     },
     "execution_count": 41,
     "metadata": {},
     "output_type": "execute_result"
    }
   ],
   "source": [
    "ar =np.arange(1,13,1).reshape(3,4)   #creating a 2d matrix using the arange function then converting t to the 3 by 4 matrix\n",
    "ar"
   ]
  },
  {
   "cell_type": "code",
   "execution_count": 42,
   "id": "2b861cff",
   "metadata": {},
   "outputs": [
    {
     "data": {
      "text/plain": [
       "array([[ 1.,  2.,  3.,  4.,  5.],\n",
       "       [ 6.,  7.,  8.,  9., 10.],\n",
       "       [11., 12., 13., 14., 15.],\n",
       "       [16., 17., 18., 19., 20.]])"
      ]
     },
     "execution_count": 42,
     "metadata": {},
     "output_type": "execute_result"
    }
   ],
   "source": [
    "np.linspace(1,20,20).reshape(4,5)"
   ]
  },
  {
   "cell_type": "markdown",
   "id": "60475527",
   "metadata": {},
   "source": [
    "## ravel() converts multidimentional array to 1d array"
   ]
  },
  {
   "cell_type": "code",
   "execution_count": 43,
   "id": "d9ae8209",
   "metadata": {},
   "outputs": [
    {
     "data": {
      "text/plain": [
       "array([1, 2, 3, 4, 5, 6, 7, 8, 9])"
      ]
     },
     "execution_count": 43,
     "metadata": {},
     "output_type": "execute_result"
    }
   ],
   "source": [
    "arr_1d = np.array([[1,2,3],[4,5,6],[7,8,9]]).ravel()   # ravel() converted 3 by 3 matrix to 1d matrix - 1 row 9 columns\n",
    "arr_1d"
   ]
  },
  {
   "cell_type": "markdown",
   "id": "f02aa18e",
   "metadata": {},
   "source": [
    "## flatten() converts multidimentional array to 1d array"
   ]
  },
  {
   "cell_type": "code",
   "execution_count": 44,
   "id": "57fe7f55",
   "metadata": {},
   "outputs": [
    {
     "data": {
      "text/plain": [
       "array([[ 1,  2,  3,  4],\n",
       "       [ 5,  6,  7,  8],\n",
       "       [ 9, 10, 11, 12]])"
      ]
     },
     "execution_count": 44,
     "metadata": {},
     "output_type": "execute_result"
    }
   ],
   "source": [
    "arr_2d"
   ]
  },
  {
   "cell_type": "code",
   "execution_count": 45,
   "id": "4bdc1b2f",
   "metadata": {},
   "outputs": [
    {
     "data": {
      "text/plain": [
       "array([ 1,  2,  3,  4,  5,  6,  7,  8,  9, 10, 11, 12])"
      ]
     },
     "execution_count": 45,
     "metadata": {},
     "output_type": "execute_result"
    }
   ],
   "source": [
    "arr_1d = arr_2d.flatten(order =\"C\")\n",
    "arr_1d"
   ]
  },
  {
   "cell_type": "code",
   "execution_count": 46,
   "id": "4c74cb9d",
   "metadata": {},
   "outputs": [
    {
     "data": {
      "text/plain": [
       "array([ 1,  5,  9,  2,  6, 10,  3,  7, 11,  4,  8, 12])"
      ]
     },
     "execution_count": 46,
     "metadata": {},
     "output_type": "execute_result"
    }
   ],
   "source": [
    "arr_1d = arr_2d.flatten(order =\"F\")\n",
    "arr_1d"
   ]
  },
  {
   "cell_type": "markdown",
   "id": "70186871",
   "metadata": {},
   "source": [
    "## transpose() - changes rows to columns and columns to rows"
   ]
  },
  {
   "cell_type": "code",
   "execution_count": 47,
   "id": "ed6b963d",
   "metadata": {},
   "outputs": [
    {
     "data": {
      "text/plain": [
       "array([[ 1,  2,  3,  4],\n",
       "       [ 5,  6,  7,  8],\n",
       "       [ 9, 10, 11, 12]])"
      ]
     },
     "execution_count": 47,
     "metadata": {},
     "output_type": "execute_result"
    }
   ],
   "source": [
    "arr_2d"
   ]
  },
  {
   "cell_type": "code",
   "execution_count": 48,
   "id": "00741157",
   "metadata": {},
   "outputs": [
    {
     "data": {
      "text/plain": [
       "array([[ 1,  5,  9],\n",
       "       [ 2,  6, 10],\n",
       "       [ 3,  7, 11],\n",
       "       [ 4,  8, 12]])"
      ]
     },
     "execution_count": 48,
     "metadata": {},
     "output_type": "execute_result"
    }
   ],
   "source": [
    "arr_2d_transposed = arr_2d.transpose()\n",
    "arr_2d_transposed"
   ]
  },
  {
   "cell_type": "markdown",
   "id": "04a8bfb1",
   "metadata": {},
   "source": [
    "## Arithmatics on matrix"
   ]
  },
  {
   "cell_type": "code",
   "execution_count": 49,
   "id": "7d411cae",
   "metadata": {},
   "outputs": [
    {
     "data": {
      "text/plain": [
       "array([[ 1,  2,  3,  4],\n",
       "       [ 5,  6,  7,  8],\n",
       "       [ 9, 10, 11, 12]])"
      ]
     },
     "execution_count": 49,
     "metadata": {},
     "output_type": "execute_result"
    }
   ],
   "source": [
    "arr1 = np.arange(1,13,1).reshape(3,4)\n",
    "arr1"
   ]
  },
  {
   "cell_type": "code",
   "execution_count": 50,
   "id": "9dbb26f3",
   "metadata": {},
   "outputs": [
    {
     "data": {
      "text/plain": [
       "array([[13, 14, 15, 16],\n",
       "       [17, 18, 19, 20],\n",
       "       [21, 22, 23, 24]])"
      ]
     },
     "execution_count": 50,
     "metadata": {},
     "output_type": "execute_result"
    }
   ],
   "source": [
    "arr2 = np.arange(13,25,1).reshape(3,4)\n",
    "arr2"
   ]
  },
  {
   "cell_type": "code",
   "execution_count": 51,
   "id": "0dcd8657",
   "metadata": {},
   "outputs": [
    {
     "data": {
      "text/plain": [
       "array([[14, 16, 18, 20],\n",
       "       [22, 24, 26, 28],\n",
       "       [30, 32, 34, 36]])"
      ]
     },
     "execution_count": 51,
     "metadata": {},
     "output_type": "execute_result"
    }
   ],
   "source": [
    "arr1+arr2"
   ]
  },
  {
   "cell_type": "code",
   "execution_count": 52,
   "id": "4ebf8f38",
   "metadata": {},
   "outputs": [
    {
     "data": {
      "text/plain": [
       "array([[14, 16, 18, 20],\n",
       "       [22, 24, 26, 28],\n",
       "       [30, 32, 34, 36]])"
      ]
     },
     "execution_count": 52,
     "metadata": {},
     "output_type": "execute_result"
    }
   ],
   "source": [
    "np.add(arr1, arr2)"
   ]
  },
  {
   "cell_type": "code",
   "execution_count": 53,
   "id": "e5a192aa",
   "metadata": {},
   "outputs": [
    {
     "data": {
      "text/plain": [
       "array([[-12, -12, -12, -12],\n",
       "       [-12, -12, -12, -12],\n",
       "       [-12, -12, -12, -12]])"
      ]
     },
     "execution_count": 53,
     "metadata": {},
     "output_type": "execute_result"
    }
   ],
   "source": [
    "arr1-arr2"
   ]
  },
  {
   "cell_type": "code",
   "execution_count": 54,
   "id": "b4fd8308",
   "metadata": {},
   "outputs": [
    {
     "data": {
      "text/plain": [
       "array([[-12, -12, -12, -12],\n",
       "       [-12, -12, -12, -12],\n",
       "       [-12, -12, -12, -12]])"
      ]
     },
     "execution_count": 54,
     "metadata": {},
     "output_type": "execute_result"
    }
   ],
   "source": [
    "np.subtract(arr1, arr2)"
   ]
  },
  {
   "cell_type": "code",
   "execution_count": 55,
   "id": "1d92b95f",
   "metadata": {},
   "outputs": [
    {
     "data": {
      "text/plain": [
       "array([[0.07692308, 0.14285714, 0.2       , 0.25      ],\n",
       "       [0.29411765, 0.33333333, 0.36842105, 0.4       ],\n",
       "       [0.42857143, 0.45454545, 0.47826087, 0.5       ]])"
      ]
     },
     "execution_count": 55,
     "metadata": {},
     "output_type": "execute_result"
    }
   ],
   "source": [
    "arr1 / arr2"
   ]
  },
  {
   "cell_type": "code",
   "execution_count": 56,
   "id": "d2f5e044",
   "metadata": {},
   "outputs": [
    {
     "data": {
      "text/plain": [
       "array([[0.07692308, 0.14285714, 0.2       , 0.25      ],\n",
       "       [0.29411765, 0.33333333, 0.36842105, 0.4       ],\n",
       "       [0.42857143, 0.45454545, 0.47826087, 0.5       ]])"
      ]
     },
     "execution_count": 56,
     "metadata": {},
     "output_type": "execute_result"
    }
   ],
   "source": [
    "np.divide(arr1, arr2)"
   ]
  },
  {
   "cell_type": "code",
   "execution_count": 57,
   "id": "d9c4a1c3",
   "metadata": {},
   "outputs": [
    {
     "data": {
      "text/plain": [
       "array([[ 13,  28,  45,  64],\n",
       "       [ 85, 108, 133, 160],\n",
       "       [189, 220, 253, 288]])"
      ]
     },
     "execution_count": 57,
     "metadata": {},
     "output_type": "execute_result"
    }
   ],
   "source": [
    "arr1*arr2 #element to element multiplication"
   ]
  },
  {
   "cell_type": "code",
   "execution_count": 58,
   "id": "56146cf6",
   "metadata": {},
   "outputs": [
    {
     "data": {
      "text/plain": [
       "array([[ 13,  28,  45,  64],\n",
       "       [ 85, 108, 133, 160],\n",
       "       [189, 220, 253, 288]])"
      ]
     },
     "execution_count": 58,
     "metadata": {},
     "output_type": "execute_result"
    }
   ],
   "source": [
    "np.multiply(arr1,arr2)"
   ]
  },
  {
   "cell_type": "code",
   "execution_count": 59,
   "id": "172b5c44",
   "metadata": {},
   "outputs": [
    {
     "data": {
      "text/plain": [
       "array([[1, 2, 3],\n",
       "       [4, 5, 6],\n",
       "       [7, 8, 9]])"
      ]
     },
     "execution_count": 59,
     "metadata": {},
     "output_type": "execute_result"
    }
   ],
   "source": [
    "a = np.arange(1,10,1).reshape(3,3)\n",
    "a"
   ]
  },
  {
   "cell_type": "code",
   "execution_count": 60,
   "id": "85e51b1d",
   "metadata": {},
   "outputs": [
    {
     "data": {
      "text/plain": [
       "array([[11, 12, 13],\n",
       "       [14, 15, 16],\n",
       "       [17, 18, 19]])"
      ]
     },
     "execution_count": 60,
     "metadata": {},
     "output_type": "execute_result"
    }
   ],
   "source": [
    "b = np.arange(11,20,1).reshape(3,3)\n",
    "b"
   ]
  },
  {
   "cell_type": "code",
   "execution_count": 61,
   "id": "2a9c9ac6",
   "metadata": {},
   "outputs": [
    {
     "data": {
      "text/plain": [
       "array([[ 90,  96, 102],\n",
       "       [216, 231, 246],\n",
       "       [342, 366, 390]])"
      ]
     },
     "execution_count": 61,
     "metadata": {},
     "output_type": "execute_result"
    }
   ],
   "source": [
    "a @ b  #dot product"
   ]
  },
  {
   "cell_type": "code",
   "execution_count": 62,
   "id": "6483388d",
   "metadata": {},
   "outputs": [
    {
     "data": {
      "text/plain": [
       "array([[ 90,  96, 102],\n",
       "       [216, 231, 246],\n",
       "       [342, 366, 390]])"
      ]
     },
     "execution_count": 62,
     "metadata": {},
     "output_type": "execute_result"
    }
   ],
   "source": [
    "a.dot(b) #dot product"
   ]
  },
  {
   "cell_type": "code",
   "execution_count": 63,
   "id": "3a891fd4",
   "metadata": {},
   "outputs": [
    {
     "data": {
      "text/plain": [
       "array([[ 1,  2,  3,  4],\n",
       "       [ 5,  6,  7,  8],\n",
       "       [ 9, 10, 11, 12]])"
      ]
     },
     "execution_count": 63,
     "metadata": {},
     "output_type": "execute_result"
    }
   ],
   "source": [
    "arr1"
   ]
  },
  {
   "cell_type": "code",
   "execution_count": 64,
   "id": "30569436",
   "metadata": {},
   "outputs": [
    {
     "data": {
      "text/plain": [
       "12"
      ]
     },
     "execution_count": 64,
     "metadata": {},
     "output_type": "execute_result"
    }
   ],
   "source": [
    "arr1.max()   #finding the max value in the martrix"
   ]
  },
  {
   "cell_type": "code",
   "execution_count": 65,
   "id": "d775606c",
   "metadata": {},
   "outputs": [
    {
     "data": {
      "text/plain": [
       "11"
      ]
     },
     "execution_count": 65,
     "metadata": {},
     "output_type": "execute_result"
    }
   ],
   "source": [
    "arr1.argmax()  #finds the index of the maximum value of the matrix"
   ]
  },
  {
   "cell_type": "code",
   "execution_count": 66,
   "id": "4390c8ed",
   "metadata": {},
   "outputs": [
    {
     "data": {
      "text/plain": [
       "1"
      ]
     },
     "execution_count": 66,
     "metadata": {},
     "output_type": "execute_result"
    }
   ],
   "source": [
    "arr1.min()   #finding the min value in the martrix"
   ]
  },
  {
   "cell_type": "code",
   "execution_count": 67,
   "id": "0ba71a8d",
   "metadata": {},
   "outputs": [
    {
     "data": {
      "text/plain": [
       "0"
      ]
     },
     "execution_count": 67,
     "metadata": {},
     "output_type": "execute_result"
    }
   ],
   "source": [
    "arr1.argmin()"
   ]
  },
  {
   "cell_type": "code",
   "execution_count": 68,
   "id": "fcdcc41f",
   "metadata": {},
   "outputs": [
    {
     "data": {
      "text/plain": [
       "78"
      ]
     },
     "execution_count": 68,
     "metadata": {},
     "output_type": "execute_result"
    }
   ],
   "source": [
    "arr1.sum()"
   ]
  },
  {
   "cell_type": "code",
   "execution_count": 69,
   "id": "e2634bdc",
   "metadata": {},
   "outputs": [
    {
     "data": {
      "text/plain": [
       "array([ 4,  8, 12])"
      ]
     },
     "execution_count": 69,
     "metadata": {},
     "output_type": "execute_result"
    }
   ],
   "source": [
    "arr1.max(axis=1) #finds the max value in every row   row=1 column =0"
   ]
  },
  {
   "cell_type": "code",
   "execution_count": 70,
   "id": "181932de",
   "metadata": {},
   "outputs": [
    {
     "data": {
      "text/plain": [
       "array([ 9, 10, 11, 12])"
      ]
     },
     "execution_count": 70,
     "metadata": {},
     "output_type": "execute_result"
    }
   ],
   "source": [
    "arr1.max(axis=0) #finds the max value in every column"
   ]
  },
  {
   "cell_type": "code",
   "execution_count": 71,
   "id": "dacf67d6",
   "metadata": {},
   "outputs": [
    {
     "data": {
      "text/plain": [
       "array([[ 1,  2,  3,  4],\n",
       "       [ 5,  6,  7,  8],\n",
       "       [ 9, 10, 11, 12]])"
      ]
     },
     "execution_count": 71,
     "metadata": {},
     "output_type": "execute_result"
    }
   ],
   "source": [
    "arr1"
   ]
  },
  {
   "cell_type": "code",
   "execution_count": 72,
   "id": "a85279ee",
   "metadata": {},
   "outputs": [
    {
     "data": {
      "text/plain": [
       "array([1, 5, 9])"
      ]
     },
     "execution_count": 72,
     "metadata": {},
     "output_type": "execute_result"
    }
   ],
   "source": [
    "arr1.min(axis=1) #finds the min value in every row   row=1 column =0"
   ]
  },
  {
   "cell_type": "code",
   "execution_count": 73,
   "id": "db5bb6f9",
   "metadata": {},
   "outputs": [
    {
     "data": {
      "text/plain": [
       "array([1, 2, 3, 4])"
      ]
     },
     "execution_count": 73,
     "metadata": {},
     "output_type": "execute_result"
    }
   ],
   "source": [
    "arr1.min(axis=0) #finds the min value in every column"
   ]
  },
  {
   "cell_type": "code",
   "execution_count": 74,
   "id": "66bba34e",
   "metadata": {},
   "outputs": [
    {
     "data": {
      "text/plain": [
       "array([0, 0, 0, 0])"
      ]
     },
     "execution_count": 74,
     "metadata": {},
     "output_type": "execute_result"
    }
   ],
   "source": [
    "arr1.argmin(axis=0)"
   ]
  },
  {
   "cell_type": "code",
   "execution_count": 75,
   "id": "0dee4a3b",
   "metadata": {},
   "outputs": [
    {
     "data": {
      "text/plain": [
       "array([2, 2, 2, 2])"
      ]
     },
     "execution_count": 75,
     "metadata": {},
     "output_type": "execute_result"
    }
   ],
   "source": [
    "arr1.argmax(axis=0)"
   ]
  },
  {
   "cell_type": "code",
   "execution_count": 76,
   "id": "4ac35c6f",
   "metadata": {},
   "outputs": [
    {
     "data": {
      "text/plain": [
       "78"
      ]
     },
     "execution_count": 76,
     "metadata": {},
     "output_type": "execute_result"
    }
   ],
   "source": [
    "arr1.sum()"
   ]
  },
  {
   "cell_type": "code",
   "execution_count": 77,
   "id": "94865ad3",
   "metadata": {},
   "outputs": [
    {
     "data": {
      "text/plain": [
       "78"
      ]
     },
     "execution_count": 77,
     "metadata": {},
     "output_type": "execute_result"
    }
   ],
   "source": [
    "np.sum(arr1)"
   ]
  },
  {
   "cell_type": "code",
   "execution_count": 78,
   "id": "abac7b44",
   "metadata": {},
   "outputs": [
    {
     "data": {
      "text/plain": [
       "array([[ 1,  2,  3,  4],\n",
       "       [ 5,  6,  7,  8],\n",
       "       [ 9, 10, 11, 12]])"
      ]
     },
     "execution_count": 78,
     "metadata": {},
     "output_type": "execute_result"
    }
   ],
   "source": [
    "arr1"
   ]
  },
  {
   "cell_type": "code",
   "execution_count": 79,
   "id": "5a745228",
   "metadata": {},
   "outputs": [
    {
     "data": {
      "text/plain": [
       "array([15, 18, 21, 24])"
      ]
     },
     "execution_count": 79,
     "metadata": {},
     "output_type": "execute_result"
    }
   ],
   "source": [
    "np.sum(arr1, axis=0)"
   ]
  },
  {
   "cell_type": "code",
   "execution_count": 80,
   "id": "518717e9",
   "metadata": {},
   "outputs": [
    {
     "data": {
      "text/plain": [
       "array([10, 26, 42])"
      ]
     },
     "execution_count": 80,
     "metadata": {},
     "output_type": "execute_result"
    }
   ],
   "source": [
    "np.sum(arr1, axis=1)"
   ]
  },
  {
   "cell_type": "code",
   "execution_count": 81,
   "id": "5f599bd5",
   "metadata": {},
   "outputs": [
    {
     "data": {
      "text/plain": [
       "6.5"
      ]
     },
     "execution_count": 81,
     "metadata": {},
     "output_type": "execute_result"
    }
   ],
   "source": [
    "np.mean(arr1)"
   ]
  },
  {
   "cell_type": "code",
   "execution_count": 82,
   "id": "1fc85dc5",
   "metadata": {},
   "outputs": [
    {
     "data": {
      "text/plain": [
       "array([ 2.5,  6.5, 10.5])"
      ]
     },
     "execution_count": 82,
     "metadata": {},
     "output_type": "execute_result"
    }
   ],
   "source": [
    "np.mean(arr1, axis =1)"
   ]
  },
  {
   "cell_type": "code",
   "execution_count": 83,
   "id": "5320a85a",
   "metadata": {},
   "outputs": [
    {
     "data": {
      "text/plain": [
       "array([5., 6., 7., 8.])"
      ]
     },
     "execution_count": 83,
     "metadata": {},
     "output_type": "execute_result"
    }
   ],
   "source": [
    "np.mean(arr1, axis =0)"
   ]
  },
  {
   "cell_type": "code",
   "execution_count": 84,
   "id": "97ba2615",
   "metadata": {},
   "outputs": [
    {
     "data": {
      "text/plain": [
       "array([[1.        , 1.41421356, 1.73205081, 2.        ],\n",
       "       [2.23606798, 2.44948974, 2.64575131, 2.82842712],\n",
       "       [3.        , 3.16227766, 3.31662479, 3.46410162]])"
      ]
     },
     "execution_count": 84,
     "metadata": {},
     "output_type": "execute_result"
    }
   ],
   "source": [
    "np.sqrt(arr1)"
   ]
  },
  {
   "cell_type": "code",
   "execution_count": 85,
   "id": "c10219fc",
   "metadata": {},
   "outputs": [
    {
     "data": {
      "text/plain": [
       "3.452052529534663"
      ]
     },
     "execution_count": 85,
     "metadata": {},
     "output_type": "execute_result"
    }
   ],
   "source": [
    "np.std(arr1)"
   ]
  },
  {
   "cell_type": "code",
   "execution_count": 86,
   "id": "7d51ba4f",
   "metadata": {},
   "outputs": [
    {
     "data": {
      "text/plain": [
       "array([[2.71828183e+00, 7.38905610e+00, 2.00855369e+01, 5.45981500e+01],\n",
       "       [1.48413159e+02, 4.03428793e+02, 1.09663316e+03, 2.98095799e+03],\n",
       "       [8.10308393e+03, 2.20264658e+04, 5.98741417e+04, 1.62754791e+05]])"
      ]
     },
     "execution_count": 86,
     "metadata": {},
     "output_type": "execute_result"
    }
   ],
   "source": [
    "np.exp(arr1)"
   ]
  },
  {
   "cell_type": "code",
   "execution_count": 87,
   "id": "d5c4d343",
   "metadata": {},
   "outputs": [
    {
     "data": {
      "text/plain": [
       "array([[0.        , 0.69314718, 1.09861229, 1.38629436],\n",
       "       [1.60943791, 1.79175947, 1.94591015, 2.07944154],\n",
       "       [2.19722458, 2.30258509, 2.39789527, 2.48490665]])"
      ]
     },
     "execution_count": 87,
     "metadata": {},
     "output_type": "execute_result"
    }
   ],
   "source": [
    "np.log(arr1)"
   ]
  },
  {
   "cell_type": "code",
   "execution_count": 88,
   "id": "00e1fad4",
   "metadata": {},
   "outputs": [
    {
     "data": {
      "text/plain": [
       "array([34, 38, 42, 46, 50])"
      ]
     },
     "execution_count": 88,
     "metadata": {},
     "output_type": "execute_result"
    }
   ],
   "source": [
    "np.arange(1,21,1).reshape(4,5).sum(axis = 0)"
   ]
  },
  {
   "cell_type": "markdown",
   "id": "9afe0018",
   "metadata": {},
   "source": [
    "## Array Slicing"
   ]
  },
  {
   "cell_type": "code",
   "execution_count": 89,
   "id": "3c49f6ee",
   "metadata": {},
   "outputs": [
    {
     "data": {
      "text/plain": [
       "array([[  1,   2,   3,   4,   5,   6,   7,   8,   9,  10],\n",
       "       [ 11,  12,  13,  14,  15,  16,  17,  18,  19,  20],\n",
       "       [ 21,  22,  23,  24,  25,  26,  27,  28,  29,  30],\n",
       "       [ 31,  32,  33,  34,  35,  36,  37,  38,  39,  40],\n",
       "       [ 41,  42,  43,  44,  45,  46,  47,  48,  49,  50],\n",
       "       [ 51,  52,  53,  54,  55,  56,  57,  58,  59,  60],\n",
       "       [ 61,  62,  63,  64,  65,  66,  67,  68,  69,  70],\n",
       "       [ 71,  72,  73,  74,  75,  76,  77,  78,  79,  80],\n",
       "       [ 81,  82,  83,  84,  85,  86,  87,  88,  89,  90],\n",
       "       [ 91,  92,  93,  94,  95,  96,  97,  98,  99, 100]])"
      ]
     },
     "execution_count": 89,
     "metadata": {},
     "output_type": "execute_result"
    }
   ],
   "source": [
    "arr = np.arange(1,101,1).reshape(10,10)\n",
    "arr"
   ]
  },
  {
   "cell_type": "code",
   "execution_count": 90,
   "id": "c8ccec62",
   "metadata": {},
   "outputs": [
    {
     "data": {
      "text/plain": [
       "array([[ 3,  4,  5],\n",
       "       [13, 14, 15],\n",
       "       [23, 24, 25],\n",
       "       [33, 34, 35],\n",
       "       [43, 44, 45],\n",
       "       [53, 54, 55],\n",
       "       [63, 64, 65],\n",
       "       [73, 74, 75],\n",
       "       [83, 84, 85],\n",
       "       [93, 94, 95]])"
      ]
     },
     "execution_count": 90,
     "metadata": {},
     "output_type": "execute_result"
    }
   ],
   "source": [
    "arr[:, 2:5]"
   ]
  },
  {
   "cell_type": "code",
   "execution_count": 91,
   "id": "848e7236",
   "metadata": {},
   "outputs": [
    {
     "data": {
      "text/plain": [
       "array([[21, 22, 23, 24, 25, 26, 27, 28, 29, 30],\n",
       "       [31, 32, 33, 34, 35, 36, 37, 38, 39, 40],\n",
       "       [41, 42, 43, 44, 45, 46, 47, 48, 49, 50]])"
      ]
     },
     "execution_count": 91,
     "metadata": {},
     "output_type": "execute_result"
    }
   ],
   "source": [
    "arr[2:5, :]"
   ]
  },
  {
   "cell_type": "code",
   "execution_count": 92,
   "id": "d78619d8",
   "metadata": {},
   "outputs": [
    {
     "data": {
      "text/plain": [
       "30"
      ]
     },
     "execution_count": 92,
     "metadata": {},
     "output_type": "execute_result"
    }
   ],
   "source": [
    "arr[2:5, :].size"
   ]
  },
  {
   "cell_type": "code",
   "execution_count": 93,
   "id": "a30859ba",
   "metadata": {},
   "outputs": [
    {
     "data": {
      "text/plain": [
       "(3, 10)"
      ]
     },
     "execution_count": 93,
     "metadata": {},
     "output_type": "execute_result"
    }
   ],
   "source": [
    "arr[2:5, :].shape"
   ]
  },
  {
   "cell_type": "code",
   "execution_count": 94,
   "id": "8d320258",
   "metadata": {},
   "outputs": [
    {
     "data": {
      "text/plain": [
       "1"
      ]
     },
     "execution_count": 94,
     "metadata": {},
     "output_type": "execute_result"
    }
   ],
   "source": [
    "arr[0,0]"
   ]
  },
  {
   "cell_type": "code",
   "execution_count": 95,
   "id": "e941d20f",
   "metadata": {},
   "outputs": [
    {
     "data": {
      "text/plain": [
       "array([ 2, 12, 22, 32, 42, 52, 62, 72, 82, 92])"
      ]
     },
     "execution_count": 95,
     "metadata": {},
     "output_type": "execute_result"
    }
   ],
   "source": [
    "arr[:,1]"
   ]
  },
  {
   "cell_type": "code",
   "execution_count": 96,
   "id": "f87f11d4",
   "metadata": {},
   "outputs": [
    {
     "data": {
      "text/plain": [
       "1"
      ]
     },
     "execution_count": 96,
     "metadata": {},
     "output_type": "execute_result"
    }
   ],
   "source": [
    "arr[:,1].ndim"
   ]
  },
  {
   "cell_type": "code",
   "execution_count": 97,
   "id": "d1b3d212",
   "metadata": {},
   "outputs": [
    {
     "data": {
      "text/plain": [
       "(10,)"
      ]
     },
     "execution_count": 97,
     "metadata": {},
     "output_type": "execute_result"
    }
   ],
   "source": [
    "arr[:,1].shape"
   ]
  },
  {
   "cell_type": "code",
   "execution_count": 98,
   "id": "4d6cd392",
   "metadata": {},
   "outputs": [
    {
     "data": {
      "text/plain": [
       "array([1, 2, 3, 4, 5])"
      ]
     },
     "execution_count": 98,
     "metadata": {},
     "output_type": "execute_result"
    }
   ],
   "source": [
    "arr[0,0:5]"
   ]
  },
  {
   "cell_type": "code",
   "execution_count": 99,
   "id": "85f53ec4",
   "metadata": {},
   "outputs": [
    {
     "data": {
      "text/plain": [
       "(5,)"
      ]
     },
     "execution_count": 99,
     "metadata": {},
     "output_type": "execute_result"
    }
   ],
   "source": [
    "arr[0,0:5].shape"
   ]
  },
  {
   "cell_type": "code",
   "execution_count": 100,
   "id": "76225c4c",
   "metadata": {},
   "outputs": [
    {
     "data": {
      "text/plain": [
       "array([[ 10],\n",
       "       [ 20],\n",
       "       [ 30],\n",
       "       [ 40],\n",
       "       [ 50],\n",
       "       [ 60],\n",
       "       [ 70],\n",
       "       [ 80],\n",
       "       [ 90],\n",
       "       [100]])"
      ]
     },
     "execution_count": 100,
     "metadata": {},
     "output_type": "execute_result"
    }
   ],
   "source": [
    "arr[:, 9:]"
   ]
  },
  {
   "cell_type": "code",
   "execution_count": 101,
   "id": "d1d6a54c",
   "metadata": {},
   "outputs": [
    {
     "data": {
      "text/plain": [
       "array([[ 91,  92,  93,  94,  95,  96,  97,  98,  99, 100]])"
      ]
     },
     "execution_count": 101,
     "metadata": {},
     "output_type": "execute_result"
    }
   ],
   "source": [
    "arr[9:,:]"
   ]
  },
  {
   "cell_type": "code",
   "execution_count": 102,
   "id": "659d6065",
   "metadata": {},
   "outputs": [
    {
     "data": {
      "text/plain": [
       "array([[ 3],\n",
       "       [13],\n",
       "       [23],\n",
       "       [33],\n",
       "       [43],\n",
       "       [53],\n",
       "       [63],\n",
       "       [73],\n",
       "       [83],\n",
       "       [93]])"
      ]
     },
     "execution_count": 102,
     "metadata": {},
     "output_type": "execute_result"
    }
   ],
   "source": [
    "arr[:,2:3]"
   ]
  },
  {
   "cell_type": "code",
   "execution_count": 103,
   "id": "6665a88a",
   "metadata": {},
   "outputs": [
    {
     "data": {
      "text/plain": [
       "(10, 1)"
      ]
     },
     "execution_count": 103,
     "metadata": {},
     "output_type": "execute_result"
    }
   ],
   "source": [
    "arr[:,2:3].shape"
   ]
  },
  {
   "cell_type": "code",
   "execution_count": 104,
   "id": "fd0e752b",
   "metadata": {},
   "outputs": [
    {
     "data": {
      "text/plain": [
       "2"
      ]
     },
     "execution_count": 104,
     "metadata": {},
     "output_type": "execute_result"
    }
   ],
   "source": [
    "arr[:,2:3].ndim"
   ]
  },
  {
   "cell_type": "code",
   "execution_count": 105,
   "id": "55df575b",
   "metadata": {},
   "outputs": [
    {
     "data": {
      "text/plain": [
       "array([[  1,   2,   3,   4,   5,   6,   7,   8,   9,  10],\n",
       "       [ 11,  12,  13,  14,  15,  16,  17,  18,  19,  20],\n",
       "       [ 21,  22,  23,  24,  25,  26,  27,  28,  29,  30],\n",
       "       [ 31,  32,  33,  34,  35,  36,  37,  38,  39,  40],\n",
       "       [ 41,  42,  43,  44,  45,  46,  47,  48,  49,  50],\n",
       "       [ 51,  52,  53,  54,  55,  56,  57,  58,  59,  60],\n",
       "       [ 61,  62,  63,  64,  65,  66,  67,  68,  69,  70],\n",
       "       [ 71,  72,  73,  74,  75,  76,  77,  78,  79,  80],\n",
       "       [ 81,  82,  83,  84,  85,  86,  87,  88,  89,  90],\n",
       "       [ 91,  92,  93,  94,  95,  96,  97,  98,  99, 100]])"
      ]
     },
     "execution_count": 105,
     "metadata": {},
     "output_type": "execute_result"
    }
   ],
   "source": [
    "arr"
   ]
  },
  {
   "cell_type": "code",
   "execution_count": 106,
   "id": "776d6bdf",
   "metadata": {},
   "outputs": [
    {
     "data": {
      "text/plain": [
       "array([[12, 13, 14],\n",
       "       [22, 23, 24],\n",
       "       [32, 33, 34]])"
      ]
     },
     "execution_count": 106,
     "metadata": {},
     "output_type": "execute_result"
    }
   ],
   "source": [
    "arr[1:4, 1:4]"
   ]
  },
  {
   "cell_type": "code",
   "execution_count": 107,
   "id": "d9c82cd7",
   "metadata": {},
   "outputs": [
    {
     "data": {
      "text/plain": [
       "array([[ 2,  3],\n",
       "       [12, 13],\n",
       "       [22, 23],\n",
       "       [32, 33],\n",
       "       [42, 43],\n",
       "       [52, 53],\n",
       "       [62, 63],\n",
       "       [72, 73],\n",
       "       [82, 83],\n",
       "       [92, 93]])"
      ]
     },
     "execution_count": 107,
     "metadata": {},
     "output_type": "execute_result"
    }
   ],
   "source": [
    "arr[:,1:3]"
   ]
  },
  {
   "cell_type": "code",
   "execution_count": 108,
   "id": "5828300c",
   "metadata": {},
   "outputs": [
    {
     "data": {
      "text/plain": [
       "array([[  1,   2,   3,   4,   5,   6,   7,   8,   9,  10],\n",
       "       [ 11,  12,  13,  14,  15,  16,  17,  18,  19,  20],\n",
       "       [ 21,  22,  23,  24,  25,  26,  27,  28,  29,  30],\n",
       "       [ 31,  32,  33,  34,  35,  36,  37,  38,  39,  40],\n",
       "       [ 41,  42,  43,  44,  45,  46,  47,  48,  49,  50],\n",
       "       [ 51,  52,  53,  54,  55,  56,  57,  58,  59,  60],\n",
       "       [ 61,  62,  63,  64,  65,  66,  67,  68,  69,  70],\n",
       "       [ 71,  72,  73,  74,  75,  76,  77,  78,  79,  80],\n",
       "       [ 81,  82,  83,  84,  85,  86,  87,  88,  89,  90],\n",
       "       [ 91,  92,  93,  94,  95,  96,  97,  98,  99, 100]])"
      ]
     },
     "execution_count": 108,
     "metadata": {},
     "output_type": "execute_result"
    }
   ],
   "source": [
    "arr[:,:]"
   ]
  },
  {
   "cell_type": "code",
   "execution_count": 109,
   "id": "62f59db2",
   "metadata": {},
   "outputs": [
    {
     "data": {
      "text/plain": [
       "8"
      ]
     },
     "execution_count": 109,
     "metadata": {},
     "output_type": "execute_result"
    }
   ],
   "source": [
    "arr.itemsize       #itemsize says how any bites are needed to store the matrix"
   ]
  },
  {
   "cell_type": "markdown",
   "id": "56116d07",
   "metadata": {},
   "source": [
    " # Numpy array concatination and split"
   ]
  },
  {
   "cell_type": "code",
   "execution_count": 110,
   "id": "50448b28",
   "metadata": {},
   "outputs": [
    {
     "data": {
      "text/plain": [
       "array([[ 1,  2,  3,  4],\n",
       "       [ 5,  6,  7,  8],\n",
       "       [ 9, 10, 11, 12],\n",
       "       [13, 14, 15, 16]])"
      ]
     },
     "execution_count": 110,
     "metadata": {},
     "output_type": "execute_result"
    }
   ],
   "source": [
    "arr1 = np.arange(1,17,1).reshape(4,4)\n",
    "arr1"
   ]
  },
  {
   "cell_type": "code",
   "execution_count": 111,
   "id": "7c8faf42",
   "metadata": {},
   "outputs": [
    {
     "data": {
      "text/plain": [
       "array([[17, 18, 19, 20],\n",
       "       [21, 22, 23, 24],\n",
       "       [25, 26, 27, 28],\n",
       "       [29, 30, 31, 32]])"
      ]
     },
     "execution_count": 111,
     "metadata": {},
     "output_type": "execute_result"
    }
   ],
   "source": [
    "arr2 = np.arange(17,33,1).reshape(4,4)\n",
    "arr2"
   ]
  },
  {
   "cell_type": "code",
   "execution_count": 112,
   "id": "b64c311f",
   "metadata": {},
   "outputs": [
    {
     "data": {
      "text/plain": [
       "array([[18, 20, 22, 24],\n",
       "       [26, 28, 30, 32],\n",
       "       [34, 36, 38, 40],\n",
       "       [42, 44, 46, 48]])"
      ]
     },
     "execution_count": 112,
     "metadata": {},
     "output_type": "execute_result"
    }
   ],
   "source": [
    "arr1+arr2   #if addition (+) is applied on arrays it adds the elements by elements . it doesn't concatenate"
   ]
  },
  {
   "cell_type": "code",
   "execution_count": 113,
   "id": "b4df4697",
   "metadata": {},
   "outputs": [
    {
     "data": {
      "text/plain": [
       "array([[ 1,  2,  3,  4],\n",
       "       [ 5,  6,  7,  8],\n",
       "       [ 9, 10, 11, 12],\n",
       "       [13, 14, 15, 16],\n",
       "       [17, 18, 19, 20],\n",
       "       [21, 22, 23, 24],\n",
       "       [25, 26, 27, 28],\n",
       "       [29, 30, 31, 32]])"
      ]
     },
     "execution_count": 113,
     "metadata": {},
     "output_type": "execute_result"
    }
   ],
   "source": [
    "#column wise concatenate\n",
    "\n",
    "np.concatenate((arr1, arr2), axis = 0)  #if concatinate is applied it puts the second array just below the first one"
   ]
  },
  {
   "cell_type": "code",
   "execution_count": 114,
   "id": "36207801",
   "metadata": {},
   "outputs": [
    {
     "name": "stdout",
     "output_type": "stream",
     "text": [
      "[[ 1  2  3  4]\n",
      " [ 5  6  7  8]\n",
      " [ 9 10 11 12]\n",
      " [13 14 15 16]]\n",
      "[[17 18 19 20]\n",
      " [21 22 23 24]\n",
      " [25 26 27 28]\n",
      " [29 30 31 32]]\n"
     ]
    }
   ],
   "source": [
    "print(arr1)\n",
    "print(arr2)"
   ]
  },
  {
   "cell_type": "code",
   "execution_count": 115,
   "id": "8bd9f4e8",
   "metadata": {},
   "outputs": [
    {
     "data": {
      "text/plain": [
       "array([[ 1,  2,  3,  4, 17, 18, 19, 20],\n",
       "       [ 5,  6,  7,  8, 21, 22, 23, 24],\n",
       "       [ 9, 10, 11, 12, 25, 26, 27, 28],\n",
       "       [13, 14, 15, 16, 29, 30, 31, 32]])"
      ]
     },
     "execution_count": 115,
     "metadata": {},
     "output_type": "execute_result"
    }
   ],
   "source": [
    "#row wise concatenate\n",
    "\n",
    "np.concatenate((arr1, arr2), axis=1)\n"
   ]
  },
  {
   "cell_type": "code",
   "execution_count": 116,
   "id": "d289d70c",
   "metadata": {},
   "outputs": [
    {
     "data": {
      "text/plain": [
       "array([[ 1,  2,  3,  4],\n",
       "       [ 5,  6,  7,  8],\n",
       "       [ 9, 10, 11, 12],\n",
       "       [13, 14, 15, 16],\n",
       "       [17, 18, 19, 20],\n",
       "       [21, 22, 23, 24],\n",
       "       [25, 26, 27, 28],\n",
       "       [29, 30, 31, 32]])"
      ]
     },
     "execution_count": 116,
     "metadata": {},
     "output_type": "execute_result"
    }
   ],
   "source": [
    "# Column wise concatenate using vstack() function\n",
    "\n",
    "np.vstack((arr1,arr2))"
   ]
  },
  {
   "cell_type": "code",
   "execution_count": 117,
   "id": "02589c75",
   "metadata": {},
   "outputs": [
    {
     "data": {
      "text/plain": [
       "array([[ 1,  2,  3,  4],\n",
       "       [ 5,  6,  7,  8],\n",
       "       [ 9, 10, 11, 12],\n",
       "       [13, 14, 15, 16],\n",
       "       [17, 18, 19, 20],\n",
       "       [21, 22, 23, 24],\n",
       "       [25, 26, 27, 28],\n",
       "       [29, 30, 31, 32],\n",
       "       [ 1,  2,  3,  4],\n",
       "       [ 5,  6,  7,  8],\n",
       "       [ 9, 10, 11, 12],\n",
       "       [13, 14, 15, 16]])"
      ]
     },
     "execution_count": 117,
     "metadata": {},
     "output_type": "execute_result"
    }
   ],
   "source": [
    "np.vstack((arr1,arr2,arr1))"
   ]
  },
  {
   "cell_type": "code",
   "execution_count": 118,
   "id": "dacafdd7",
   "metadata": {},
   "outputs": [
    {
     "data": {
      "text/plain": [
       "array([[ 1,  2,  3,  4, 17, 18, 19, 20],\n",
       "       [ 5,  6,  7,  8, 21, 22, 23, 24],\n",
       "       [ 9, 10, 11, 12, 25, 26, 27, 28],\n",
       "       [13, 14, 15, 16, 29, 30, 31, 32]])"
      ]
     },
     "execution_count": 118,
     "metadata": {},
     "output_type": "execute_result"
    }
   ],
   "source": [
    "# Column wise concatenate using hstack() function\n",
    "\n",
    "np.hstack((arr1,arr2))"
   ]
  },
  {
   "cell_type": "code",
   "execution_count": 119,
   "id": "592eb52e",
   "metadata": {},
   "outputs": [
    {
     "data": {
      "text/plain": [
       "array([[ 1,  2,  3,  4, 17, 18, 19, 20,  1,  2,  3,  4],\n",
       "       [ 5,  6,  7,  8, 21, 22, 23, 24,  5,  6,  7,  8],\n",
       "       [ 9, 10, 11, 12, 25, 26, 27, 28,  9, 10, 11, 12],\n",
       "       [13, 14, 15, 16, 29, 30, 31, 32, 13, 14, 15, 16]])"
      ]
     },
     "execution_count": 119,
     "metadata": {},
     "output_type": "execute_result"
    }
   ],
   "source": [
    "np.hstack((arr1,arr2,arr1))"
   ]
  },
  {
   "cell_type": "code",
   "execution_count": 120,
   "id": "d22c9ed8",
   "metadata": {},
   "outputs": [
    {
     "name": "stdout",
     "output_type": "stream",
     "text": [
      "[[ 1  2  3  4]\n",
      " [ 5  6  7  8]\n",
      " [ 9 10 11 12]\n",
      " [13 14 15 16]]\n"
     ]
    }
   ],
   "source": [
    "# spliting arrays\n",
    "\n",
    "print(arr1)\n"
   ]
  },
  {
   "cell_type": "code",
   "execution_count": 121,
   "id": "a85db335",
   "metadata": {},
   "outputs": [
    {
     "data": {
      "text/plain": [
       "[array([[1, 2, 3, 4],\n",
       "        [5, 6, 7, 8]]),\n",
       " array([[ 9, 10, 11, 12],\n",
       "        [13, 14, 15, 16]])]"
      ]
     },
     "execution_count": 121,
     "metadata": {},
     "output_type": "execute_result"
    }
   ],
   "source": [
    "list1 = np.split(arr1, 2, axis = 0)\n",
    "list1"
   ]
  },
  {
   "cell_type": "code",
   "execution_count": 122,
   "id": "8e578678",
   "metadata": {},
   "outputs": [
    {
     "data": {
      "text/plain": [
       "list"
      ]
     },
     "execution_count": 122,
     "metadata": {},
     "output_type": "execute_result"
    }
   ],
   "source": [
    "type(list1)"
   ]
  },
  {
   "cell_type": "code",
   "execution_count": 123,
   "id": "fc640ed8",
   "metadata": {},
   "outputs": [
    {
     "data": {
      "text/plain": [
       "array([[1, 2, 3, 4],\n",
       "       [5, 6, 7, 8]])"
      ]
     },
     "execution_count": 123,
     "metadata": {},
     "output_type": "execute_result"
    }
   ],
   "source": [
    "list1[0]"
   ]
  },
  {
   "cell_type": "code",
   "execution_count": 124,
   "id": "8dddfe3a",
   "metadata": {},
   "outputs": [
    {
     "data": {
      "text/plain": [
       "numpy.ndarray"
      ]
     },
     "execution_count": 124,
     "metadata": {},
     "output_type": "execute_result"
    }
   ],
   "source": [
    "type(list1[0])"
   ]
  },
  {
   "cell_type": "code",
   "execution_count": 125,
   "id": "7f472dd1",
   "metadata": {},
   "outputs": [
    {
     "data": {
      "text/plain": [
       "array([[17, 18, 19, 20],\n",
       "       [21, 22, 23, 24],\n",
       "       [25, 26, 27, 28],\n",
       "       [29, 30, 31, 32]])"
      ]
     },
     "execution_count": 125,
     "metadata": {},
     "output_type": "execute_result"
    }
   ],
   "source": [
    "arr2"
   ]
  },
  {
   "cell_type": "code",
   "execution_count": 126,
   "id": "9c6454c8",
   "metadata": {},
   "outputs": [
    {
     "data": {
      "text/plain": [
       "[array([[17, 18],\n",
       "        [21, 22],\n",
       "        [25, 26],\n",
       "        [29, 30]]),\n",
       " array([[19, 20],\n",
       "        [23, 24],\n",
       "        [27, 28],\n",
       "        [31, 32]])]"
      ]
     },
     "execution_count": 126,
     "metadata": {},
     "output_type": "execute_result"
    }
   ],
   "source": [
    "list2 = np.split(arr2, 2, axis = 1)\n",
    "list2"
   ]
  },
  {
   "cell_type": "code",
   "execution_count": 127,
   "id": "4d916f2f",
   "metadata": {},
   "outputs": [
    {
     "data": {
      "text/plain": [
       "list"
      ]
     },
     "execution_count": 127,
     "metadata": {},
     "output_type": "execute_result"
    }
   ],
   "source": [
    "type(list2)"
   ]
  },
  {
   "cell_type": "code",
   "execution_count": 128,
   "id": "b3829bd9",
   "metadata": {},
   "outputs": [
    {
     "data": {
      "text/plain": [
       "array([[17, 18],\n",
       "       [21, 22],\n",
       "       [25, 26],\n",
       "       [29, 30]])"
      ]
     },
     "execution_count": 128,
     "metadata": {},
     "output_type": "execute_result"
    }
   ],
   "source": [
    "list2[0]"
   ]
  },
  {
   "cell_type": "code",
   "execution_count": 129,
   "id": "c6105f9b",
   "metadata": {},
   "outputs": [
    {
     "data": {
      "text/plain": [
       "numpy.ndarray"
      ]
     },
     "execution_count": 129,
     "metadata": {},
     "output_type": "execute_result"
    }
   ],
   "source": [
    "type(list2[0])"
   ]
  },
  {
   "cell_type": "code",
   "execution_count": 130,
   "id": "c9f549b1",
   "metadata": {},
   "outputs": [
    {
     "data": {
      "text/plain": [
       "array([1, 2, 3, 4, 5, 6, 7, 8, 9])"
      ]
     },
     "execution_count": 130,
     "metadata": {},
     "output_type": "execute_result"
    }
   ],
   "source": [
    "a = np.array([1,2,3,4,5,6,7,8,9])\n",
    "a"
   ]
  },
  {
   "cell_type": "code",
   "execution_count": 131,
   "id": "b67ad171",
   "metadata": {},
   "outputs": [
    {
     "data": {
      "text/plain": [
       "[array([1, 2, 3]), array([4, 5, 6]), array([7, 8, 9])]"
      ]
     },
     "execution_count": 131,
     "metadata": {},
     "output_type": "execute_result"
    }
   ],
   "source": [
    "a_sp = np.split(a, 3 , axis = 0)\n",
    "a_sp"
   ]
  },
  {
   "cell_type": "code",
   "execution_count": 132,
   "id": "cc2d51d5",
   "metadata": {},
   "outputs": [
    {
     "data": {
      "text/plain": [
       "list"
      ]
     },
     "execution_count": 132,
     "metadata": {},
     "output_type": "execute_result"
    }
   ],
   "source": [
    "type(a_sp)"
   ]
  },
  {
   "cell_type": "code",
   "execution_count": 133,
   "id": "257b7b23",
   "metadata": {},
   "outputs": [
    {
     "data": {
      "text/plain": [
       "array([1, 2, 3])"
      ]
     },
     "execution_count": 133,
     "metadata": {},
     "output_type": "execute_result"
    }
   ],
   "source": [
    "a_sp[0]"
   ]
  },
  {
   "cell_type": "code",
   "execution_count": 134,
   "id": "6ee9d546",
   "metadata": {},
   "outputs": [
    {
     "data": {
      "text/plain": [
       "numpy.ndarray"
      ]
     },
     "execution_count": 134,
     "metadata": {},
     "output_type": "execute_result"
    }
   ],
   "source": [
    "type(a_sp[0])"
   ]
  },
  {
   "cell_type": "code",
   "execution_count": 135,
   "id": "1a819e48",
   "metadata": {},
   "outputs": [
    {
     "data": {
      "text/plain": [
       "[array([1]), array([2, 3, 4]), array([5, 6, 7]), array([8, 9])]"
      ]
     },
     "execution_count": 135,
     "metadata": {},
     "output_type": "execute_result"
    }
   ],
   "source": [
    "np.split(a, [1,4,7])"
   ]
  },
  {
   "cell_type": "markdown",
   "id": "834ac4c8",
   "metadata": {},
   "source": [
    "# sin() cos() tan() using numpy trigonometric function"
   ]
  },
  {
   "cell_type": "code",
   "execution_count": 136,
   "id": "b8ccd131",
   "metadata": {},
   "outputs": [],
   "source": [
    "import matplotlib.pyplot as plt"
   ]
  },
  {
   "cell_type": "code",
   "execution_count": 137,
   "id": "3166581b",
   "metadata": {},
   "outputs": [
    {
     "data": {
      "text/plain": [
       "-0.8011526357338304"
      ]
     },
     "execution_count": 137,
     "metadata": {},
     "output_type": "execute_result"
    }
   ],
   "source": [
    "np.sin(180)"
   ]
  },
  {
   "cell_type": "code",
   "execution_count": 138,
   "id": "80e0b689",
   "metadata": {},
   "outputs": [
    {
     "data": {
      "text/plain": [
       "0.8939966636005579"
      ]
     },
     "execution_count": 138,
     "metadata": {},
     "output_type": "execute_result"
    }
   ],
   "source": [
    "np.sin(90)"
   ]
  },
  {
   "cell_type": "code",
   "execution_count": 139,
   "id": "808231c4",
   "metadata": {},
   "outputs": [
    {
     "data": {
      "text/plain": [
       "-0.5984600690578581"
      ]
     },
     "execution_count": 139,
     "metadata": {},
     "output_type": "execute_result"
    }
   ],
   "source": [
    "np.cos(180)"
   ]
  },
  {
   "cell_type": "code",
   "execution_count": 140,
   "id": "01fb327e",
   "metadata": {},
   "outputs": [
    {
     "data": {
      "text/plain": [
       "-0.4480736161291701"
      ]
     },
     "execution_count": 140,
     "metadata": {},
     "output_type": "execute_result"
    }
   ],
   "source": [
    "np.cos(90)"
   ]
  },
  {
   "cell_type": "code",
   "execution_count": 141,
   "id": "4c173732",
   "metadata": {},
   "outputs": [
    {
     "data": {
      "text/plain": [
       "1.3386902103511544"
      ]
     },
     "execution_count": 141,
     "metadata": {},
     "output_type": "execute_result"
    }
   ],
   "source": [
    "np.tan(180)"
   ]
  },
  {
   "cell_type": "code",
   "execution_count": 142,
   "id": "02b1084e",
   "metadata": {},
   "outputs": [
    {
     "data": {
      "text/plain": [
       "array([ 1. ,  1.1,  1.2,  1.3,  1.4,  1.5,  1.6,  1.7,  1.8,  1.9,  2. ,\n",
       "        2.1,  2.2,  2.3,  2.4,  2.5,  2.6,  2.7,  2.8,  2.9,  3. ,  3.1,\n",
       "        3.2,  3.3,  3.4,  3.5,  3.6,  3.7,  3.8,  3.9,  4. ,  4.1,  4.2,\n",
       "        4.3,  4.4,  4.5,  4.6,  4.7,  4.8,  4.9,  5. ,  5.1,  5.2,  5.3,\n",
       "        5.4,  5.5,  5.6,  5.7,  5.8,  5.9,  6. ,  6.1,  6.2,  6.3,  6.4,\n",
       "        6.5,  6.6,  6.7,  6.8,  6.9,  7. ,  7.1,  7.2,  7.3,  7.4,  7.5,\n",
       "        7.6,  7.7,  7.8,  7.9,  8. ,  8.1,  8.2,  8.3,  8.4,  8.5,  8.6,\n",
       "        8.7,  8.8,  8.9,  9. ,  9.1,  9.2,  9.3,  9.4,  9.5,  9.6,  9.7,\n",
       "        9.8,  9.9, 10. , 10.1, 10.2, 10.3, 10.4, 10.5, 10.6, 10.7, 10.8,\n",
       "       10.9])"
      ]
     },
     "execution_count": 142,
     "metadata": {},
     "output_type": "execute_result"
    }
   ],
   "source": [
    "x = np.arange(1,11,0.1)\n",
    "x"
   ]
  },
  {
   "cell_type": "code",
   "execution_count": 143,
   "id": "58835d74",
   "metadata": {},
   "outputs": [
    {
     "data": {
      "text/plain": [
       "array([ 0.84147098,  0.89120736,  0.93203909,  0.96355819,  0.98544973,\n",
       "        0.99749499,  0.9995736 ,  0.99166481,  0.97384763,  0.94630009,\n",
       "        0.90929743,  0.86320937,  0.8084964 ,  0.74570521,  0.67546318,\n",
       "        0.59847214,  0.51550137,  0.42737988,  0.33498815,  0.23924933,\n",
       "        0.14112001,  0.04158066, -0.05837414, -0.15774569, -0.2555411 ,\n",
       "       -0.35078323, -0.44252044, -0.52983614, -0.61185789, -0.68776616,\n",
       "       -0.7568025 , -0.81827711, -0.87157577, -0.91616594, -0.95160207,\n",
       "       -0.97753012, -0.993691  , -0.99992326, -0.99616461, -0.98245261,\n",
       "       -0.95892427, -0.92581468, -0.88345466, -0.83226744, -0.77276449,\n",
       "       -0.70554033, -0.63126664, -0.55068554, -0.46460218, -0.37387666,\n",
       "       -0.2794155 , -0.1821625 , -0.0830894 ,  0.0168139 ,  0.1165492 ,\n",
       "        0.21511999,  0.31154136,  0.40484992,  0.49411335,  0.57843976,\n",
       "        0.6569866 ,  0.72896904,  0.79366786,  0.85043662,  0.8987081 ,\n",
       "        0.93799998,  0.96791967,  0.98816823,  0.99854335,  0.99894134,\n",
       "        0.98935825,  0.96988981,  0.94073056,  0.90217183,  0.85459891,\n",
       "        0.79848711,  0.7343971 ,  0.66296923,  0.58491719,  0.50102086,\n",
       "        0.41211849,  0.31909836,  0.22288991,  0.12445442,  0.02477543,\n",
       "       -0.07515112, -0.17432678, -0.27176063, -0.36647913, -0.45753589,\n",
       "       -0.54402111, -0.62507065, -0.69987469, -0.76768581, -0.82782647,\n",
       "       -0.87969576, -0.92277542, -0.95663502, -0.98093623, -0.99543625])"
      ]
     },
     "execution_count": 143,
     "metadata": {},
     "output_type": "execute_result"
    }
   ],
   "source": [
    "y = np.sin(x)\n",
    "y"
   ]
  },
  {
   "cell_type": "code",
   "execution_count": 144,
   "id": "6088853c",
   "metadata": {},
   "outputs": [
    {
     "data": {
      "text/plain": [
       "[<matplotlib.lines.Line2D at 0x2aab431edd80>]"
      ]
     },
     "execution_count": 144,
     "metadata": {},
     "output_type": "execute_result"
    },
    {
     "data": {
      "image/png": "[encoded data removed]",
      "text/plain": [
       "<Figure size 640x480 with 1 Axes>"
      ]
     },
     "metadata": {},
     "output_type": "display_data"
    }
   ],
   "source": [
    "plt.plot(x,y)"
   ]
  },
  {
   "cell_type": "code",
   "execution_count": 145,
   "id": "3f4d7a7c",
   "metadata": {},
   "outputs": [
    {
     "data": {
      "text/plain": [
       "array([ 1. ,  1.1,  1.2,  1.3,  1.4,  1.5,  1.6,  1.7,  1.8,  1.9,  2. ,\n",
       "        2.1,  2.2,  2.3,  2.4,  2.5,  2.6,  2.7,  2.8,  2.9,  3. ,  3.1,\n",
       "        3.2,  3.3,  3.4,  3.5,  3.6,  3.7,  3.8,  3.9,  4. ,  4.1,  4.2,\n",
       "        4.3,  4.4,  4.5,  4.6,  4.7,  4.8,  4.9,  5. ,  5.1,  5.2,  5.3,\n",
       "        5.4,  5.5,  5.6,  5.7,  5.8,  5.9,  6. ,  6.1,  6.2,  6.3,  6.4,\n",
       "        6.5,  6.6,  6.7,  6.8,  6.9,  7. ,  7.1,  7.2,  7.3,  7.4,  7.5,\n",
       "        7.6,  7.7,  7.8,  7.9,  8. ,  8.1,  8.2,  8.3,  8.4,  8.5,  8.6,\n",
       "        8.7,  8.8,  8.9,  9. ,  9.1,  9.2,  9.3,  9.4,  9.5,  9.6,  9.7,\n",
       "        9.8,  9.9, 10. , 10.1, 10.2, 10.3, 10.4, 10.5, 10.6, 10.7, 10.8,\n",
       "       10.9])"
      ]
     },
     "execution_count": 145,
     "metadata": {},
     "output_type": "execute_result"
    }
   ],
   "source": [
    "x = np.arange(1,11,0.1)\n",
    "x"
   ]
  },
  {
   "cell_type": "code",
   "execution_count": 146,
   "id": "3ffd5ffa",
   "metadata": {},
   "outputs": [
    {
     "data": {
      "text/plain": [
       "array([ 0.54030231,  0.45359612,  0.36235775,  0.26749883,  0.16996714,\n",
       "        0.0707372 , -0.02919952, -0.12884449, -0.22720209, -0.32328957,\n",
       "       -0.41614684, -0.5048461 , -0.58850112, -0.66627602, -0.73739372,\n",
       "       -0.80114362, -0.85688875, -0.90407214, -0.94222234, -0.97095817,\n",
       "       -0.9899925 , -0.99913515, -0.99829478, -0.98747977, -0.96679819,\n",
       "       -0.93645669, -0.89675842, -0.84810003, -0.79096771, -0.7259323 ,\n",
       "       -0.65364362, -0.57482395, -0.49026082, -0.40079917, -0.30733287,\n",
       "       -0.2107958 , -0.11215253, -0.01238866,  0.08749898,  0.18651237,\n",
       "        0.28366219,  0.37797774,  0.46851667,  0.55437434,  0.63469288,\n",
       "        0.70866977,  0.77556588,  0.83471278,  0.88551952,  0.92747843,\n",
       "        0.96017029,  0.98326844,  0.9965421 ,  0.99985864,  0.99318492,\n",
       "        0.97658763,  0.95023259,  0.91438315,  0.86939749,  0.8157251 ,\n",
       "        0.75390225,  0.68454667,  0.60835131,  0.52607752,  0.43854733,\n",
       "        0.34663532,  0.25125984,  0.15337386,  0.05395542, -0.04600213,\n",
       "       -0.14550003, -0.24354415, -0.33915486, -0.43137684, -0.51928865,\n",
       "       -0.6020119 , -0.67872005, -0.74864665, -0.81109301, -0.86543521,\n",
       "       -0.91113026, -0.9477216 , -0.97484362, -0.99222533, -0.99969304,\n",
       "       -0.99717216, -0.98468786, -0.96236488, -0.93042627, -0.88919115,\n",
       "       -0.83907153, -0.78056818, -0.71426565, -0.64082642, -0.56098426,\n",
       "       -0.47553693, -0.38533819, -0.29128928, -0.19432991, -0.09542885])"
      ]
     },
     "execution_count": 146,
     "metadata": {},
     "output_type": "execute_result"
    }
   ],
   "source": [
    "y = np.cos(x)\n",
    "y"
   ]
  },
  {
   "cell_type": "code",
   "execution_count": 147,
   "id": "7ca3f3d9",
   "metadata": {},
   "outputs": [
    {
     "data": {
      "text/plain": [
       "[<matplotlib.lines.Line2D at 0x2aab45314220>]"
      ]
     },
     "execution_count": 147,
     "metadata": {},
     "output_type": "execute_result"
    },
    {
     "data": {
      "image/png": "[encoded data removed]",
      "text/plain": [
       "<Figure size 640x480 with 1 Axes>"
      ]
     },
     "metadata": {},
     "output_type": "display_data"
    }
   ],
   "source": [
    "plt.plot(x,y)"
   ]
  },
  {
   "cell_type": "code",
   "execution_count": 148,
   "id": "d41da25d",
   "metadata": {},
   "outputs": [
    {
     "data": {
      "text/plain": [
       "array([ 1. ,  1.1,  1.2,  1.3,  1.4,  1.5,  1.6,  1.7,  1.8,  1.9,  2. ,\n",
       "        2.1,  2.2,  2.3,  2.4,  2.5,  2.6,  2.7,  2.8,  2.9,  3. ,  3.1,\n",
       "        3.2,  3.3,  3.4,  3.5,  3.6,  3.7,  3.8,  3.9,  4. ,  4.1,  4.2,\n",
       "        4.3,  4.4,  4.5,  4.6,  4.7,  4.8,  4.9,  5. ,  5.1,  5.2,  5.3,\n",
       "        5.4,  5.5,  5.6,  5.7,  5.8,  5.9,  6. ,  6.1,  6.2,  6.3,  6.4,\n",
       "        6.5,  6.6,  6.7,  6.8,  6.9,  7. ,  7.1,  7.2,  7.3,  7.4,  7.5,\n",
       "        7.6,  7.7,  7.8,  7.9,  8. ,  8.1,  8.2,  8.3,  8.4,  8.5,  8.6,\n",
       "        8.7,  8.8,  8.9,  9. ,  9.1,  9.2,  9.3,  9.4,  9.5,  9.6,  9.7,\n",
       "        9.8,  9.9, 10. , 10.1, 10.2, 10.3, 10.4, 10.5, 10.6, 10.7, 10.8,\n",
       "       10.9])"
      ]
     },
     "execution_count": 148,
     "metadata": {},
     "output_type": "execute_result"
    }
   ],
   "source": [
    "x = np.arange(1,11,0.1)\n",
    "x"
   ]
  },
  {
   "cell_type": "code",
   "execution_count": 149,
   "id": "793bc86d",
   "metadata": {},
   "outputs": [
    {
     "data": {
      "text/plain": [
       "array([ 1.55740772e+00,  1.96475966e+00,  2.57215162e+00,  3.60210245e+00,\n",
       "        5.79788372e+00,  1.41014199e+01, -3.42325327e+01, -7.69660214e+00,\n",
       "       -4.28626167e+00, -2.92709751e+00, -2.18503986e+00, -1.70984654e+00,\n",
       "       -1.37382306e+00, -1.11921364e+00, -9.16014290e-01, -7.47022297e-01,\n",
       "       -6.01596613e-01, -4.72727629e-01, -3.55529832e-01, -2.46405394e-01,\n",
       "       -1.42546543e-01, -4.16166546e-02,  5.84738545e-02,  1.59745748e-01,\n",
       "        2.64316901e-01,  3.74585640e-01,  4.93466730e-01,  6.24733075e-01,\n",
       "        7.73556091e-01,  9.47424650e-01,  1.15782128e+00,  1.42352648e+00,\n",
       "        1.77777977e+00,  2.28584788e+00,  3.09632378e+00,  4.63733205e+00,\n",
       "        8.86017490e+00,  8.07127630e+01, -1.13848707e+01, -5.26749307e+00,\n",
       "       -3.38051501e+00, -2.44938942e+00, -1.88564188e+00, -1.50127340e+00,\n",
       "       -1.21754082e+00, -9.95584052e-01, -8.13943284e-01, -6.59730572e-01,\n",
       "       -5.24666222e-01, -4.03110900e-01, -2.91006191e-01, -1.85262231e-01,\n",
       "       -8.33777149e-02,  1.68162777e-02,  1.17348947e-01,  2.20277200e-01,\n",
       "        3.27858007e-01,  4.42757417e-01,  5.68339979e-01,  7.09111151e-01,\n",
       "        8.71447983e-01,  1.06489313e+00,  1.30462094e+00,  1.61656142e+00,\n",
       "        2.04928417e+00,  2.70601387e+00,  3.85226569e+00,  6.44287247e+00,\n",
       "        1.85068216e+01, -2.17151127e+01, -6.79971146e+00, -3.98239825e+00,\n",
       "       -2.77374930e+00, -2.09137751e+00, -1.64571073e+00, -1.32636433e+00,\n",
       "       -1.08203242e+00, -8.85556937e-01, -7.21146876e-01, -5.78923588e-01,\n",
       "       -4.52315659e-01, -3.36700526e-01, -2.28641712e-01, -1.25429598e-01,\n",
       "       -2.47830328e-02,  7.53642388e-02,  1.77037607e-01,  2.82388346e-01,\n",
       "        3.93883041e-01,  5.14552908e-01,  6.48360827e-01,  8.00789303e-01,\n",
       "        9.79852084e-01,  1.19796218e+00,  1.47566791e+00,  1.84989999e+00,\n",
       "        2.39471572e+00,  3.28414081e+00,  5.04778831e+00,  1.04311877e+01])"
      ]
     },
     "execution_count": 149,
     "metadata": {},
     "output_type": "execute_result"
    }
   ],
   "source": [
    "y = np.tan(x)\n",
    "y"
   ]
  },
  {
   "cell_type": "code",
   "execution_count": 150,
   "id": "d4e5cc0f",
   "metadata": {},
   "outputs": [
    {
     "data": {
      "text/plain": [
       "[<matplotlib.lines.Line2D at 0x2aab45376860>]"
      ]
     },
     "execution_count": 150,
     "metadata": {},
     "output_type": "execute_result"
    },
    {
     "data": {
      "image/png": "[encoded data removed]",
      "text/plain": [
       "<Figure size 640x480 with 1 Axes>"
      ]
     },
     "metadata": {},
     "output_type": "display_data"
    }
   ],
   "source": [
    "plt.plot(x,y)"
   ]
  },
  {
   "cell_type": "code",
   "execution_count": 151,
   "id": "368bf290",
   "metadata": {},
   "outputs": [
    {
     "data": {
      "text/plain": [
       "array([ 1. ,  1.1,  1.2,  1.3,  1.4,  1.5,  1.6,  1.7,  1.8,  1.9,  2. ,\n",
       "        2.1,  2.2,  2.3,  2.4,  2.5,  2.6,  2.7,  2.8,  2.9,  3. ,  3.1,\n",
       "        3.2,  3.3,  3.4,  3.5,  3.6,  3.7,  3.8,  3.9,  4. ,  4.1,  4.2,\n",
       "        4.3,  4.4,  4.5,  4.6,  4.7,  4.8,  4.9,  5. ,  5.1,  5.2,  5.3,\n",
       "        5.4,  5.5,  5.6,  5.7,  5.8,  5.9,  6. ,  6.1,  6.2,  6.3,  6.4,\n",
       "        6.5,  6.6,  6.7,  6.8,  6.9,  7. ,  7.1,  7.2,  7.3,  7.4,  7.5,\n",
       "        7.6,  7.7,  7.8,  7.9,  8. ,  8.1,  8.2,  8.3,  8.4,  8.5,  8.6,\n",
       "        8.7,  8.8,  8.9,  9. ,  9.1,  9.2,  9.3,  9.4,  9.5,  9.6,  9.7,\n",
       "        9.8,  9.9, 10. , 10.1, 10.2, 10.3, 10.4, 10.5, 10.6, 10.7, 10.8,\n",
       "       10.9])"
      ]
     },
     "execution_count": 151,
     "metadata": {},
     "output_type": "execute_result"
    }
   ],
   "source": [
    "x = np.arange(1,11,0.1)\n",
    "x"
   ]
  },
  {
   "cell_type": "code",
   "execution_count": 152,
   "id": "1dacb9d8",
   "metadata": {},
   "outputs": [
    {
     "data": {
      "text/plain": [
       "array([  1.  ,   1.21,   1.44,   1.69,   1.96,   2.25,   2.56,   2.89,\n",
       "         3.24,   3.61,   4.  ,   4.41,   4.84,   5.29,   5.76,   6.25,\n",
       "         6.76,   7.29,   7.84,   8.41,   9.  ,   9.61,  10.24,  10.89,\n",
       "        11.56,  12.25,  12.96,  13.69,  14.44,  15.21,  16.  ,  16.81,\n",
       "        17.64,  18.49,  19.36,  20.25,  21.16,  22.09,  23.04,  24.01,\n",
       "        25.  ,  26.01,  27.04,  28.09,  29.16,  30.25,  31.36,  32.49,\n",
       "        33.64,  34.81,  36.  ,  37.21,  38.44,  39.69,  40.96,  42.25,\n",
       "        43.56,  44.89,  46.24,  47.61,  49.  ,  50.41,  51.84,  53.29,\n",
       "        54.76,  56.25,  57.76,  59.29,  60.84,  62.41,  64.  ,  65.61,\n",
       "        67.24,  68.89,  70.56,  72.25,  73.96,  75.69,  77.44,  79.21,\n",
       "        81.  ,  82.81,  84.64,  86.49,  88.36,  90.25,  92.16,  94.09,\n",
       "        96.04,  98.01, 100.  , 102.01, 104.04, 106.09, 108.16, 110.25,\n",
       "       112.36, 114.49, 116.64, 118.81])"
      ]
     },
     "execution_count": 152,
     "metadata": {},
     "output_type": "execute_result"
    }
   ],
   "source": [
    "y = x**2\n",
    "y"
   ]
  },
  {
   "cell_type": "code",
   "execution_count": 153,
   "id": "3cb0163a",
   "metadata": {},
   "outputs": [
    {
     "data": {
      "text/plain": [
       "[<matplotlib.lines.Line2D at 0x2aab453db340>]"
      ]
     },
     "execution_count": 153,
     "metadata": {},
     "output_type": "execute_result"
    },
    {
     "data": {
      "image/png": "[encoded data removed]",
      "text/plain": [
       "<Figure size 640x480 with 1 Axes>"
      ]
     },
     "metadata": {},
     "output_type": "display_data"
    }
   ],
   "source": [
    "plt.xlabel(\"x\")\n",
    "plt.ylabel(\"x^2\")\n",
    "plt.plot(x,y)"
   ]
  },
  {
   "cell_type": "code",
   "execution_count": 154,
   "id": "14adc656",
   "metadata": {},
   "outputs": [
    {
     "data": {
      "text/plain": [
       "array([ 1. ,  1.1,  1.2,  1.3,  1.4,  1.5,  1.6,  1.7,  1.8,  1.9,  2. ,\n",
       "        2.1,  2.2,  2.3,  2.4,  2.5,  2.6,  2.7,  2.8,  2.9,  3. ,  3.1,\n",
       "        3.2,  3.3,  3.4,  3.5,  3.6,  3.7,  3.8,  3.9,  4. ,  4.1,  4.2,\n",
       "        4.3,  4.4,  4.5,  4.6,  4.7,  4.8,  4.9,  5. ,  5.1,  5.2,  5.3,\n",
       "        5.4,  5.5,  5.6,  5.7,  5.8,  5.9,  6. ,  6.1,  6.2,  6.3,  6.4,\n",
       "        6.5,  6.6,  6.7,  6.8,  6.9,  7. ,  7.1,  7.2,  7.3,  7.4,  7.5,\n",
       "        7.6,  7.7,  7.8,  7.9,  8. ,  8.1,  8.2,  8.3,  8.4,  8.5,  8.6,\n",
       "        8.7,  8.8,  8.9,  9. ,  9.1,  9.2,  9.3,  9.4,  9.5,  9.6,  9.7,\n",
       "        9.8,  9.9, 10. , 10.1, 10.2, 10.3, 10.4, 10.5, 10.6, 10.7, 10.8,\n",
       "       10.9])"
      ]
     },
     "execution_count": 154,
     "metadata": {},
     "output_type": "execute_result"
    }
   ],
   "source": [
    "x"
   ]
  },
  {
   "cell_type": "code",
   "execution_count": 155,
   "id": "911dd982",
   "metadata": {},
   "outputs": [
    {
     "data": {
      "text/plain": [
       "array([2.71828183e+00, 3.00416602e+00, 3.32011692e+00, 3.66929667e+00,\n",
       "       4.05519997e+00, 4.48168907e+00, 4.95303242e+00, 5.47394739e+00,\n",
       "       6.04964746e+00, 6.68589444e+00, 7.38905610e+00, 8.16616991e+00,\n",
       "       9.02501350e+00, 9.97418245e+00, 1.10231764e+01, 1.21824940e+01,\n",
       "       1.34637380e+01, 1.48797317e+01, 1.64446468e+01, 1.81741454e+01,\n",
       "       2.00855369e+01, 2.21979513e+01, 2.45325302e+01, 2.71126389e+01,\n",
       "       2.99641000e+01, 3.31154520e+01, 3.65982344e+01, 4.04473044e+01,\n",
       "       4.47011845e+01, 4.94024491e+01, 5.45981500e+01, 6.03402876e+01,\n",
       "       6.66863310e+01, 7.36997937e+01, 8.14508687e+01, 9.00171313e+01,\n",
       "       9.94843156e+01, 1.09947172e+02, 1.21510418e+02, 1.34289780e+02,\n",
       "       1.48413159e+02, 1.64021907e+02, 1.81272242e+02, 2.00336810e+02,\n",
       "       2.21406416e+02, 2.44691932e+02, 2.70426407e+02, 2.98867401e+02,\n",
       "       3.30299560e+02, 3.65037468e+02, 4.03428793e+02, 4.45857770e+02,\n",
       "       4.92749041e+02, 5.44571910e+02, 6.01845038e+02, 6.65141633e+02,\n",
       "       7.35095189e+02, 8.12405825e+02, 8.97847292e+02, 9.92274716e+02,\n",
       "       1.09663316e+03, 1.21196707e+03, 1.33943076e+03, 1.48029993e+03,\n",
       "       1.63598443e+03, 1.80804241e+03, 1.99819590e+03, 2.20834799e+03,\n",
       "       2.44060198e+03, 2.69728233e+03, 2.98095799e+03, 3.29446808e+03,\n",
       "       3.64095031e+03, 4.02387239e+03, 4.44706675e+03, 4.91476884e+03,\n",
       "       5.43165959e+03, 6.00291222e+03, 6.63424401e+03, 7.33197354e+03,\n",
       "       8.10308393e+03, 8.95529270e+03, 9.89712906e+03, 1.09380192e+04,\n",
       "       1.20883807e+04, 1.33597268e+04, 1.47647816e+04, 1.63176072e+04,\n",
       "       1.80337449e+04, 1.99303704e+04, 2.20264658e+04, 2.43430094e+04,\n",
       "       2.69031861e+04, 2.97326189e+04, 3.28596257e+04, 3.63155027e+04,\n",
       "       4.01348374e+04, 4.43558551e+04, 4.90208011e+04, 5.41763638e+04])"
      ]
     },
     "execution_count": 155,
     "metadata": {},
     "output_type": "execute_result"
    }
   ],
   "source": [
    "y = np.exp(x)\n",
    "y"
   ]
  },
  {
   "cell_type": "code",
   "execution_count": 156,
   "id": "8539c664",
   "metadata": {},
   "outputs": [
    {
     "data": {
      "text/plain": [
       "[<matplotlib.lines.Line2D at 0x2aab454753c0>]"
      ]
     },
     "execution_count": 156,
     "metadata": {},
     "output_type": "execute_result"
    },
    {
     "data": {
      "image/png": "[encoded data removed]",
      "text/plain": [
       "<Figure size 640x480 with 1 Axes>"
      ]
     },
     "metadata": {},
     "output_type": "display_data"
    }
   ],
   "source": [
    "plt.xlabel(\"x\")\n",
    "plt.ylabel(\"exp x\")\n",
    "plt.title(\"Exponential growth \")\n",
    "\n",
    "plt.plot(x,y)"
   ]
  },
  {
   "cell_type": "code",
   "execution_count": 175,
   "id": "37b7708f",
   "metadata": {},
   "outputs": [
    {
     "data": {
      "text/plain": [
       "array([ 1. ,  1.1,  1.2,  1.3,  1.4,  1.5,  1.6,  1.7,  1.8,  1.9,  2. ,\n",
       "        2.1,  2.2,  2.3,  2.4,  2.5,  2.6,  2.7,  2.8,  2.9,  3. ,  3.1,\n",
       "        3.2,  3.3,  3.4,  3.5,  3.6,  3.7,  3.8,  3.9,  4. ,  4.1,  4.2,\n",
       "        4.3,  4.4,  4.5,  4.6,  4.7,  4.8,  4.9,  5. ,  5.1,  5.2,  5.3,\n",
       "        5.4,  5.5,  5.6,  5.7,  5.8,  5.9,  6. ,  6.1,  6.2,  6.3,  6.4,\n",
       "        6.5,  6.6,  6.7,  6.8,  6.9,  7. ,  7.1,  7.2,  7.3,  7.4,  7.5,\n",
       "        7.6,  7.7,  7.8,  7.9,  8. ,  8.1,  8.2,  8.3,  8.4,  8.5,  8.6,\n",
       "        8.7,  8.8,  8.9,  9. ,  9.1,  9.2,  9.3,  9.4,  9.5,  9.6,  9.7,\n",
       "        9.8,  9.9, 10. , 10.1, 10.2, 10.3, 10.4, 10.5, 10.6, 10.7, 10.8,\n",
       "       10.9, 11. , 11.1, 11.2, 11.3, 11.4, 11.5, 11.6, 11.7, 11.8, 11.9,\n",
       "       12. , 12.1, 12.2, 12.3, 12.4, 12.5, 12.6, 12.7, 12.8, 12.9, 13. ,\n",
       "       13.1, 13.2, 13.3, 13.4, 13.5, 13.6, 13.7, 13.8, 13.9, 14. , 14.1,\n",
       "       14.2, 14.3, 14.4, 14.5, 14.6, 14.7, 14.8, 14.9, 15. , 15.1, 15.2,\n",
       "       15.3, 15.4, 15.5, 15.6, 15.7, 15.8, 15.9, 16. , 16.1, 16.2, 16.3,\n",
       "       16.4, 16.5, 16.6, 16.7, 16.8, 16.9, 17. , 17.1, 17.2, 17.3, 17.4,\n",
       "       17.5, 17.6, 17.7, 17.8, 17.9, 18. , 18.1, 18.2, 18.3, 18.4, 18.5,\n",
       "       18.6, 18.7, 18.8, 18.9, 19. , 19.1, 19.2, 19.3, 19.4, 19.5, 19.6,\n",
       "       19.7, 19.8, 19.9, 20. , 20.1, 20.2, 20.3, 20.4, 20.5, 20.6, 20.7,\n",
       "       20.8, 20.9, 21. , 21.1, 21.2, 21.3, 21.4, 21.5, 21.6, 21.7, 21.8,\n",
       "       21.9, 22. , 22.1, 22.2, 22.3, 22.4, 22.5, 22.6, 22.7, 22.8, 22.9,\n",
       "       23. , 23.1, 23.2, 23.3, 23.4, 23.5, 23.6, 23.7, 23.8, 23.9, 24. ,\n",
       "       24.1, 24.2, 24.3, 24.4, 24.5, 24.6, 24.7, 24.8, 24.9, 25. , 25.1,\n",
       "       25.2, 25.3, 25.4, 25.5, 25.6, 25.7, 25.8, 25.9, 26. , 26.1, 26.2,\n",
       "       26.3, 26.4, 26.5, 26.6, 26.7, 26.8, 26.9, 27. , 27.1, 27.2, 27.3,\n",
       "       27.4, 27.5, 27.6, 27.7, 27.8, 27.9, 28. , 28.1, 28.2, 28.3, 28.4,\n",
       "       28.5, 28.6, 28.7, 28.8, 28.9, 29. , 29.1, 29.2, 29.3, 29.4, 29.5,\n",
       "       29.6, 29.7, 29.8, 29.9, 30. , 30.1, 30.2, 30.3, 30.4, 30.5, 30.6,\n",
       "       30.7, 30.8, 30.9, 31. , 31.1, 31.2, 31.3, 31.4, 31.5, 31.6, 31.7,\n",
       "       31.8, 31.9, 32. , 32.1, 32.2, 32.3, 32.4, 32.5, 32.6, 32.7, 32.8,\n",
       "       32.9, 33. , 33.1, 33.2, 33.3, 33.4, 33.5, 33.6, 33.7, 33.8, 33.9,\n",
       "       34. , 34.1, 34.2, 34.3, 34.4, 34.5, 34.6, 34.7, 34.8, 34.9, 35. ,\n",
       "       35.1, 35.2, 35.3, 35.4, 35.5, 35.6, 35.7, 35.8, 35.9, 36. , 36.1,\n",
       "       36.2, 36.3, 36.4, 36.5, 36.6, 36.7, 36.8, 36.9, 37. , 37.1, 37.2,\n",
       "       37.3, 37.4, 37.5, 37.6, 37.7, 37.8, 37.9, 38. , 38.1, 38.2, 38.3,\n",
       "       38.4, 38.5, 38.6, 38.7, 38.8, 38.9, 39. , 39.1, 39.2, 39.3, 39.4,\n",
       "       39.5, 39.6, 39.7, 39.8, 39.9, 40. , 40.1, 40.2, 40.3, 40.4, 40.5,\n",
       "       40.6, 40.7, 40.8, 40.9, 41. , 41.1, 41.2, 41.3, 41.4, 41.5, 41.6,\n",
       "       41.7, 41.8, 41.9, 42. , 42.1, 42.2, 42.3, 42.4, 42.5, 42.6, 42.7,\n",
       "       42.8, 42.9, 43. , 43.1, 43.2, 43.3, 43.4, 43.5, 43.6, 43.7, 43.8,\n",
       "       43.9, 44. , 44.1, 44.2, 44.3, 44.4, 44.5, 44.6, 44.7, 44.8, 44.9,\n",
       "       45. , 45.1, 45.2, 45.3, 45.4, 45.5, 45.6, 45.7, 45.8, 45.9, 46. ,\n",
       "       46.1, 46.2, 46.3, 46.4, 46.5, 46.6, 46.7, 46.8, 46.9, 47. , 47.1,\n",
       "       47.2, 47.3, 47.4, 47.5, 47.6, 47.7, 47.8, 47.9, 48. , 48.1, 48.2,\n",
       "       48.3, 48.4, 48.5, 48.6, 48.7, 48.8, 48.9, 49. , 49.1, 49.2, 49.3,\n",
       "       49.4, 49.5, 49.6, 49.7, 49.8, 49.9, 50. , 50.1, 50.2, 50.3, 50.4,\n",
       "       50.5, 50.6, 50.7, 50.8, 50.9, 51. , 51.1, 51.2, 51.3, 51.4, 51.5,\n",
       "       51.6, 51.7, 51.8, 51.9, 52. , 52.1, 52.2, 52.3, 52.4, 52.5, 52.6,\n",
       "       52.7, 52.8, 52.9, 53. , 53.1, 53.2, 53.3, 53.4, 53.5, 53.6, 53.7,\n",
       "       53.8, 53.9, 54. , 54.1, 54.2, 54.3, 54.4, 54.5, 54.6, 54.7, 54.8,\n",
       "       54.9, 55. , 55.1, 55.2, 55.3, 55.4, 55.5, 55.6, 55.7, 55.8, 55.9,\n",
       "       56. , 56.1, 56.2, 56.3, 56.4, 56.5, 56.6, 56.7, 56.8, 56.9, 57. ,\n",
       "       57.1, 57.2, 57.3, 57.4, 57.5, 57.6, 57.7, 57.8, 57.9, 58. , 58.1,\n",
       "       58.2, 58.3, 58.4, 58.5, 58.6, 58.7, 58.8, 58.9, 59. , 59.1, 59.2,\n",
       "       59.3, 59.4, 59.5, 59.6, 59.7, 59.8, 59.9, 60. , 60.1, 60.2, 60.3,\n",
       "       60.4, 60.5, 60.6, 60.7, 60.8, 60.9, 61. , 61.1, 61.2, 61.3, 61.4,\n",
       "       61.5, 61.6, 61.7, 61.8, 61.9, 62. , 62.1, 62.2, 62.3, 62.4, 62.5,\n",
       "       62.6, 62.7, 62.8, 62.9, 63. , 63.1, 63.2, 63.3, 63.4, 63.5, 63.6,\n",
       "       63.7, 63.8, 63.9, 64. , 64.1, 64.2, 64.3, 64.4, 64.5, 64.6, 64.7,\n",
       "       64.8, 64.9, 65. , 65.1, 65.2, 65.3, 65.4, 65.5, 65.6, 65.7, 65.8,\n",
       "       65.9, 66. , 66.1, 66.2, 66.3, 66.4, 66.5, 66.6, 66.7, 66.8, 66.9,\n",
       "       67. , 67.1, 67.2, 67.3, 67.4, 67.5, 67.6, 67.7, 67.8, 67.9, 68. ,\n",
       "       68.1, 68.2, 68.3, 68.4, 68.5, 68.6, 68.7, 68.8, 68.9, 69. , 69.1,\n",
       "       69.2, 69.3, 69.4, 69.5, 69.6, 69.7, 69.8, 69.9, 70. , 70.1, 70.2,\n",
       "       70.3, 70.4, 70.5, 70.6, 70.7, 70.8, 70.9, 71. , 71.1, 71.2, 71.3,\n",
       "       71.4, 71.5, 71.6, 71.7, 71.8, 71.9, 72. , 72.1, 72.2, 72.3, 72.4,\n",
       "       72.5, 72.6, 72.7, 72.8, 72.9, 73. , 73.1, 73.2, 73.3, 73.4, 73.5,\n",
       "       73.6, 73.7, 73.8, 73.9, 74. , 74.1, 74.2, 74.3, 74.4, 74.5, 74.6,\n",
       "       74.7, 74.8, 74.9, 75. , 75.1, 75.2, 75.3, 75.4, 75.5, 75.6, 75.7,\n",
       "       75.8, 75.9, 76. , 76.1, 76.2, 76.3, 76.4, 76.5, 76.6, 76.7, 76.8,\n",
       "       76.9, 77. , 77.1, 77.2, 77.3, 77.4, 77.5, 77.6, 77.7, 77.8, 77.9,\n",
       "       78. , 78.1, 78.2, 78.3, 78.4, 78.5, 78.6, 78.7, 78.8, 78.9, 79. ,\n",
       "       79.1, 79.2, 79.3, 79.4, 79.5, 79.6, 79.7, 79.8, 79.9, 80. , 80.1,\n",
       "       80.2, 80.3, 80.4, 80.5, 80.6, 80.7, 80.8, 80.9, 81. , 81.1, 81.2,\n",
       "       81.3, 81.4, 81.5, 81.6, 81.7, 81.8, 81.9, 82. , 82.1, 82.2, 82.3,\n",
       "       82.4, 82.5, 82.6, 82.7, 82.8, 82.9, 83. , 83.1, 83.2, 83.3, 83.4,\n",
       "       83.5, 83.6, 83.7, 83.8, 83.9, 84. , 84.1, 84.2, 84.3, 84.4, 84.5,\n",
       "       84.6, 84.7, 84.8, 84.9, 85. , 85.1, 85.2, 85.3, 85.4, 85.5, 85.6,\n",
       "       85.7, 85.8, 85.9, 86. , 86.1, 86.2, 86.3, 86.4, 86.5, 86.6, 86.7,\n",
       "       86.8, 86.9, 87. , 87.1, 87.2, 87.3, 87.4, 87.5, 87.6, 87.7, 87.8,\n",
       "       87.9, 88. , 88.1, 88.2, 88.3, 88.4, 88.5, 88.6, 88.7, 88.8, 88.9,\n",
       "       89. , 89.1, 89.2, 89.3, 89.4, 89.5, 89.6, 89.7, 89.8, 89.9, 90. ,\n",
       "       90.1, 90.2, 90.3, 90.4, 90.5, 90.6, 90.7, 90.8, 90.9, 91. , 91.1,\n",
       "       91.2, 91.3, 91.4, 91.5, 91.6, 91.7, 91.8, 91.9, 92. , 92.1, 92.2,\n",
       "       92.3, 92.4, 92.5, 92.6, 92.7, 92.8, 92.9, 93. , 93.1, 93.2, 93.3,\n",
       "       93.4, 93.5, 93.6, 93.7, 93.8, 93.9, 94. , 94.1, 94.2, 94.3, 94.4,\n",
       "       94.5, 94.6, 94.7, 94.8, 94.9, 95. , 95.1, 95.2, 95.3, 95.4, 95.5,\n",
       "       95.6, 95.7, 95.8, 95.9, 96. , 96.1, 96.2, 96.3, 96.4, 96.5, 96.6,\n",
       "       96.7, 96.8, 96.9, 97. , 97.1, 97.2, 97.3, 97.4, 97.5, 97.6, 97.7,\n",
       "       97.8, 97.9, 98. , 98.1, 98.2, 98.3, 98.4, 98.5, 98.6, 98.7, 98.8,\n",
       "       98.9, 99. , 99.1, 99.2, 99.3, 99.4, 99.5, 99.6, 99.7, 99.8, 99.9])"
      ]
     },
     "execution_count": 175,
     "metadata": {},
     "output_type": "execute_result"
    }
   ],
   "source": [
    "x = np.arange(1,100,0.1)\n",
    "x"
   ]
  },
  {
   "cell_type": "code",
   "execution_count": 176,
   "id": "36bbc593",
   "metadata": {},
   "outputs": [
    {
     "data": {
      "text/plain": [
       "array([ 0.54030231,  0.45359612,  0.36235775,  0.26749883,  0.16996714,\n",
       "        0.0707372 , -0.02919952, -0.12884449, -0.22720209, -0.32328957,\n",
       "       -0.41614684, -0.5048461 , -0.58850112, -0.66627602, -0.73739372,\n",
       "       -0.80114362, -0.85688875, -0.90407214, -0.94222234, -0.97095817,\n",
       "       -0.9899925 , -0.99913515, -0.99829478, -0.98747977, -0.96679819,\n",
       "       -0.93645669, -0.89675842, -0.84810003, -0.79096771, -0.7259323 ,\n",
       "       -0.65364362, -0.57482395, -0.49026082, -0.40079917, -0.30733287,\n",
       "       -0.2107958 , -0.11215253, -0.01238866,  0.08749898,  0.18651237,\n",
       "        0.28366219,  0.37797774,  0.46851667,  0.55437434,  0.63469288,\n",
       "        0.70866977,  0.77556588,  0.83471278,  0.88551952,  0.92747843,\n",
       "        0.96017029,  0.98326844,  0.9965421 ,  0.99985864,  0.99318492,\n",
       "        0.97658763,  0.95023259,  0.91438315,  0.86939749,  0.8157251 ,\n",
       "        0.75390225,  0.68454667,  0.60835131,  0.52607752,  0.43854733,\n",
       "        0.34663532,  0.25125984,  0.15337386,  0.05395542, -0.04600213,\n",
       "       -0.14550003, -0.24354415, -0.33915486, -0.43137684, -0.51928865,\n",
       "       -0.6020119 , -0.67872005, -0.74864665, -0.81109301, -0.86543521,\n",
       "       -0.91113026, -0.9477216 , -0.97484362, -0.99222533, -0.99969304,\n",
       "       -0.99717216, -0.98468786, -0.96236488, -0.93042627, -0.88919115,\n",
       "       -0.83907153, -0.78056818, -0.71426565, -0.64082642, -0.56098426,\n",
       "       -0.47553693, -0.38533819, -0.29128928, -0.19432991, -0.09542885,\n",
       "        0.0044257 ,  0.10423603,  0.20300486,  0.29974534,  0.39349087,\n",
       "        0.48330476,  0.56828963,  0.64759634,  0.72043248,  0.7860703 ,\n",
       "        0.84385396,  0.89320611,  0.93363364,  0.96473262,  0.9861923 ,\n",
       "        0.99779828,  0.99943459,  0.99108487,  0.97283257,  0.94486004,\n",
       "        0.90744678,  0.86096662,  0.80588396,  0.74274917,  0.67219308,\n",
       "        0.59492066,  0.51170399,  0.42337454,  0.33081488,  0.23494982,\n",
       "        0.13673722,  0.03715838, -0.06279172, -0.16211444, -0.25981736,\n",
       "       -0.35492427, -0.44648489, -0.53358439, -0.61535248, -0.69097218,\n",
       "       -0.75968791, -0.82081309, -0.87373698, -0.91793078, -0.95295292,\n",
       "       -0.97845346, -0.99417763, -0.99996829, -0.99576761, -0.98161754,\n",
       "       -0.95765948, -0.9241328 , -0.88137249, -0.8298058 , -0.76994796,\n",
       "       -0.70239706, -0.62782804, -0.54698596, -0.46067859, -0.36976826,\n",
       "       -0.27516334, -0.17780907, -0.07867819,  0.02123881,  0.1209436 ,\n",
       "        0.21943996,  0.31574375,  0.40889274,  0.4979562 ,  0.58204425,\n",
       "        0.66031671,  0.7319915 ,  0.79635247,  0.85275655,  0.90064017,\n",
       "        0.93952489,  0.96902219,  0.98883734,  0.99877236,  0.99872797,\n",
       "        0.98870462,  0.96880246,  0.93922035,  0.90025385,  0.85229232,\n",
       "        0.79581497,  0.7313861 ,  0.65964945,  0.58132181,  0.49718579,\n",
       "        0.40808206,  0.31490091,  0.21857337,  0.12006192,  0.02035084,\n",
       "       -0.07956357, -0.17868301, -0.2760171 , -0.37059333, -0.4614667 ,\n",
       "       -0.54772926, -0.62851909, -0.70302896, -0.7705144 , -0.83030111,\n",
       "       -0.88179173, -0.92447177, -0.95791481, -0.98178667, -0.99584884,\n",
       "       -0.99996083, -0.99408153, -0.9782697 , -0.95268332, -0.91757805,\n",
       "       -0.87330464, -0.82030546, -0.75911006, -0.69032988, -0.61465215,\n",
       "       -0.53283302, -0.44569   , -0.35409379, -0.2589596 , -0.16123796,\n",
       "       -0.06190529,  0.03804591,  0.13761698,  0.23581302,  0.3316529 ,\n",
       "        0.42417901,  0.51246686,  0.59563432,  0.67285039,  0.74334356,\n",
       "        0.80640949,  0.86141805,  0.9078196 ,  0.94515051,  0.9730378 ,\n",
       "        0.99120281,  0.99946405,  0.99773898,  0.98604483,  0.96449845,\n",
       "        0.93331511,  0.8928064 ,  0.84337707,  0.78552098,  0.71981624,\n",
       "        0.64691932,  0.5675586 ,  0.48252703,  0.3926742 ,  0.29889791,\n",
       "        0.20213512,  0.10335267,  0.00353755, -0.09631292, -0.19520105,\n",
       "       -0.29213881, -0.38615761, -0.47631805, -0.56171928, -0.64150799,\n",
       "       -0.71488697, -0.78112303, -0.83955437, -0.88959717, -0.9307514 ,\n",
       "       -0.96260587, -0.9848423 , -0.99723851, -0.99967064, -0.9921144 ,\n",
       "       -0.97464528, -0.94743782, -0.91076388, -0.86498988, -0.8105732 ,\n",
       "       -0.74805753, -0.67806752, -0.60130248, -0.51852943, -0.4305754 ,\n",
       "       -0.33831921, -0.24268264, -0.14462127, -0.04511489,  0.05484226,\n",
       "        0.15425145,  0.25211941,  0.34746827,  0.43934535,  0.52683263,\n",
       "        0.60905598,  0.68519384,  0.75448546,  0.81623852,  0.869836  ,\n",
       "        0.91474236,  0.95050891,  0.9767783 ,  0.99328804,  0.99987318,\n",
       "        0.99646791,  0.98310626,  0.95992174,  0.927146  ,  0.88510653,\n",
       "        0.83422336,  0.77500491,  0.70804286,  0.63400629,  0.55363493,\n",
       "        0.46773184,  0.37715533,  0.2828104 ,  0.18563972,  0.0866142 ,\n",
       "       -0.01327675, -0.11303504, -0.21166392, -0.30817792, -0.40161271,\n",
       "       -0.49103472, -0.57555048, -0.65431552, -0.72654286, -0.79151083,\n",
       "       -0.84857027, -0.89715109, -0.93676787, -0.96702477, -0.98761948,\n",
       "       -0.99834623, -0.99909783, -0.98986677, -0.97074529, -0.94192445,\n",
       "       -0.90369221, -0.85643057, -0.80061176, -0.73679351, -0.66561346,\n",
       "       -0.58778281, -0.50407924, -0.41533907, -0.32244898, -0.22633708,\n",
       "       -0.12796369, -0.02831173,  0.07162311,  0.17084231,  0.26835451,\n",
       "        0.36318541,  0.45438747,  0.54104945,  0.62230544,  0.69734356,\n",
       "        0.76541405,  0.82583678,  0.87800802,  0.9214065 ,  0.95559858,\n",
       "        0.98024264,  0.99509244,  0.99999961,  0.99491511,  0.97988974,\n",
       "        0.95507364,  0.92071477,  0.87715641,  0.8248338 ,  0.76426972,\n",
       "        0.69606931,  0.62091401,  0.53955473,  0.45280441,  0.36152981,\n",
       "        0.26664293,  0.16909184,  0.06985124, -0.03008729, -0.1297252 ,\n",
       "       -0.22806693, -0.3241299 , -0.41695427, -0.50561257, -0.58921896,\n",
       "       -0.66693806, -0.73799334, -0.80167484, -0.85734626, -0.90445137,\n",
       "       -0.94251949, -0.97117027, -0.99011744, -0.99917169, -0.99824254,\n",
       "       -0.98733928, -0.96657085, -0.93614477, -0.89636504, -0.84762912,\n",
       "       -0.79042397, -0.72532117, -0.6529712 , -0.57409696, -0.48948653,\n",
       "       -0.39998531, -0.30648758, -0.20992752, -0.11126993, -0.01150057,\n",
       "        0.0883837 ,  0.18738487,  0.28451375,  0.37879986,  0.46930113,\n",
       "        0.5551133 ,  0.63537896,  0.70929613,  0.77612624,  0.83520155,\n",
       "        0.88593181,  0.92781013,  0.96041807,  0.98342984,  0.9966155 ,\n",
       "        0.99984331,  0.99308101,  0.97639618,  0.94995552,  0.91402322,\n",
       "        0.8689583 ,  0.81521103,  0.75331845,  0.68389896,  0.60764617,\n",
       "        0.52532199,  0.43774896,  0.34580209,  0.25040008,  0.15249615,\n",
       "        0.05306854, -0.04688932, -0.14637868, -0.24440547, -0.33999024,\n",
       "       -0.43217794, -0.52004747, -0.60272085, -0.67937204, -0.74923517,\n",
       "       -0.81161219, -0.86587985, -0.91149593, -0.94800464, -0.9750412 ,\n",
       "       -0.99233547, -0.99971465, -0.99710502, -0.98453264, -0.96212313,\n",
       "       -0.93010041, -0.88878444, -0.83858802, -0.78001271, -0.71364377,\n",
       "       -0.64014434, -0.5602488 , -0.47475543, -0.38451847, -0.29043952,\n",
       "       -0.1934586 , -0.09454471,  0.00531384,  0.1051193 ,  0.20387445,\n",
       "        0.30059254,  0.39430722,  0.48408211,  0.56902021,  0.64827284,\n",
       "        0.72104815,  0.78661899,  0.84433019,  0.89360512,  0.93395144,\n",
       "        0.96496603,  0.986339  ,  0.99785679,  0.99940433,  0.99096615,\n",
       "        0.97262656,  0.94456882,  0.90707325,  0.86051451,  0.80535779,\n",
       "        0.7421542 ,  0.67153525,  0.59420654,  0.51094072,  0.42256975,\n",
       "        0.3299766 ,  0.23408643,  0.13585735,  0.03627083, -0.0636781 ,\n",
       "       -0.16299078, -0.26067491, -0.35575446, -0.44727943, -0.53433533,\n",
       "       -0.61605233, -0.69161394, -0.76026517, -0.82132008, -0.87416864,\n",
       "       -0.91828279, -0.95322176, -0.97863645, -0.99427294, -0.99997497,\n",
       "       -0.99568559, -0.98144764, -0.9574034 , -0.9237931 , -0.88095256,\n",
       "       -0.82930983, -0.76938092, -0.7017646 , -0.62713649, -0.54624223,\n",
       "       -0.45989011, -0.36894291, -0.27430936, -0.176935  , -0.07779276,\n",
       "        0.02212676,  0.12182519,  0.22030639,  0.31658635,  0.40970309,\n",
       "        0.49872622,  0.58276623,  0.66098344,  0.73259632,  0.79688934,\n",
       "        0.85322011,  0.90102578,  0.9398287 ,  0.96924116,  0.98896929,\n",
       "        0.99881596,  0.99868279,  0.98857111,  0.96858196,  0.93891506,\n",
       "        0.89986683,  0.85182742,  0.79527684,  0.73078012,  0.65898168,\n",
       "        0.58059891,  0.49641499,  0.40727106,  0.31405781,  0.2177066 ,\n",
       "        0.11918014,  0.01946286, -0.08044888, -0.1795568 , -0.27687065,\n",
       "       -0.3714181 , -0.46225446, -0.54847213, -0.62920964, -0.7036603 ,\n",
       "       -0.77108022, -0.83079576, -0.88221027, -0.92481002, -0.95816938,\n",
       "       -0.98195502, -0.99592929, -0.99995257, -0.99398465, -0.97808517,\n",
       "       -0.95241298, -0.9172246 , -0.87287161, -0.81979718, -0.7585316 ,\n",
       "       -0.68968703, -0.61395133, -0.53208123, -0.44489476, -0.35326304,\n",
       "       -0.25810164, -0.16036136, -0.06101882,  0.03893341,  0.13849663,\n",
       "        0.23667604,  0.33249065,  0.42498314,  0.51322933,  0.5963475 ,\n",
       "        0.67350716,  0.74393737,  0.80693439,  0.8618688 ,  0.9081917 ,\n",
       "        0.94544024,  0.97324226,  0.99131997,  0.99949273,  0.9976789 ,\n",
       "        0.98589658,  0.96426351,  0.93299584,  0.89240599,  0.84289951,\n",
       "        0.78497105,  0.71919942,  0.6462418 ,  0.56682713,  0.48174892,\n",
       "        0.39185723,  0.29805023,  0.20126522,  0.10246923,  0.0026494 ,\n",
       "       -0.09719691, -0.19607205, -0.29298811, -0.38697672, -0.47709879,\n",
       "       -0.56245385, -0.64218906, -0.71550772, -0.78167727, -0.84003656,\n",
       "       -0.89000248, -0.93107579, -0.96284609, -0.98499596, -0.99730407,\n",
       "       -0.99964746, -0.99200269, -0.97444616, -0.94715329, -0.91039677,\n",
       "       -0.86454387, -0.81005274, -0.74746782, -0.67741446, -0.60059259,\n",
       "       -0.5177698 , -0.42977362, -0.33748329, -0.24182094, -0.14374239,\n",
       "       -0.04422762,  0.05572906,  0.15512892,  0.25297877,  0.34830095,\n",
       "        0.44014302,  0.52758733,  0.60976016,  0.68584046,  0.75506808,\n",
       "        0.8167513 ,  0.87027382,  0.91510085,  0.95078449,  0.97696821,\n",
       "        0.99339038,  0.99988693,  0.99639293,  0.98294331,  0.95967244,\n",
       "        0.92681285,  0.88469284,  0.83373328,  0.77444333,  0.7074154 ,\n",
       "        0.6333192 ,  0.55289509,  0.46694664,  0.37633261,  0.28195839,\n",
       "        0.18476693,  0.08572935, -0.01416482, -0.11391746, -0.21253187,\n",
       "       -0.30902273, -0.40242594, -0.49180824, -0.57627656, -0.65498691,\n",
       "       -0.72715285, -0.79205332, -0.84903985, -0.89754306, -0.93707831,\n",
       "       -0.96725059, -0.98775842, -0.99839689, -0.99905971, -0.98974026,\n",
       "       -0.97053165, -0.94162581, -0.90331156, -0.85597171, -0.80007928,\n",
       "       -0.73619272, -0.66495036, -0.58706405, -0.50331198, -0.41453098,\n",
       "       -0.32160813, -0.22547188, -0.12708278, -0.02742392,  0.07250895,\n",
       "        0.17171734,  0.26920999,  0.36401278,  0.45517847,  0.54179617,\n",
       "        0.62300042,  0.69797986,  0.76598531,  0.82633729,  0.87843279,\n",
       "        0.92175127,  0.95585992,  0.98041793,  0.99517993,  0.99999842,\n",
       "        0.99482526,  0.97971213,  0.95481005,  0.92036781,  0.87672957,\n",
       "        0.82433133,  0.76369665,  0.69543136,  0.62021755,  0.53880674,\n",
       "        0.45201234,  0.36070159,  0.26578683,  0.16821641,  0.06896523,\n",
       "       -0.03097503, -0.1306058 , -0.22893159, -0.32496998, -0.41776138,\n",
       "       -0.50637864, -0.58993633, -0.66759958, -0.73859239, -0.80220543,\n",
       "       -0.85780309, -0.90482988, -0.9428159 , -0.97138161, -0.99024161,\n",
       "       -0.99920743, -0.99818951, -0.98719801, -0.96634275, -0.93583211,\n",
       "       -0.89597095, -0.84715754, -0.78987961, -0.72470947, -0.65229827,\n",
       "       -0.57336952, -0.48871186, -0.39917114, -0.30564204, -0.20905907,\n",
       "       -0.11038724, -0.01061247,  0.08926835,  0.18825722,  0.28536509,\n",
       "        0.37962168,  0.47008522,  0.55585183,  0.63606455,  0.70992192,\n",
       "        0.77668598,  0.83568966,  0.8863434 ,  0.92814109,  0.9606651 ,\n",
       "        0.98359046,  0.99668812,  0.99982719,  0.99297632,  0.97620396,\n",
       "        0.9496777 ,  0.91366257,  0.86851842,  0.81469632,  0.75273405,\n",
       "        0.68325071,  0.60694055,  0.52456605,  0.43695025,  0.34496859,\n",
       "        0.24954012,  0.15161832,  0.05218161, -0.04777649, -0.14725721,\n",
       "       -0.2452666 , -0.34082536, -0.4329787 , -0.52080587, -0.60342932,\n",
       "       -0.6800235 , -0.74982311, -0.81213073, -0.86632381, -0.91186088,\n",
       "       -0.94828693, -0.97523801, -0.99244483, -0.99973547, -0.99703709,\n",
       "       -0.98437664, -0.96188063, -0.92977382, -0.88837702, -0.83810385,\n",
       "       -0.77945663, -0.71302133, -0.63946176, -0.55951289, -0.47397356,\n",
       "       -0.38369844, -0.28958954, -0.19258715, -0.09366049,  0.00620199,\n",
       "        0.1060025 ,  0.20474387,  0.30143951,  0.39512326,  0.48485907,\n",
       "        0.56975033,  0.64894884,  0.72166326,  0.78716706,  0.84480575,\n",
       "        0.89400342,  0.9342685 ,  0.96519868,  0.98648491,  0.99791451,\n",
       "        0.99937328,  0.99084665,  0.9724198 ,  0.94427685,  0.906699  ,\n",
       "        0.86006172,  0.80483098,  0.74155864,  0.67087688,  0.59349195,\n",
       "        0.51017704,  0.42176462,  0.32913806,  0.23322286,  0.13497737,\n",
       "        0.03538324, -0.06456443, -0.163867  , -0.26153226, -0.35658437,\n",
       "       -0.44807362, -0.53508586, -0.61675169, -0.69225515, -0.76084183,\n",
       "       -0.82182642, -0.8745996 , -0.91863407, -0.95348985, -0.97881867,\n",
       "       -0.99436746, -0.99998086, -0.99560278, -0.98127697, -0.95714656,\n",
       "       -0.92345266, -0.88053193, -0.82881321, -0.76881327, -0.7011316 ,\n",
       "       -0.62644445, -0.54549807, -0.45910126, -0.36811727, -0.27345516,\n",
       "       -0.17606078, -0.07690726,  0.02301469,  0.12270668,  0.22117263,\n",
       "        0.3174287 ,  0.41051313,  0.49949584,  0.58348776,  0.66164965,\n",
       "        0.73320057,  0.79742559,  0.85368299,  0.90141068,  0.94013176,\n",
       "        0.96945937,  0.98910045,  0.99885877,  0.99863683,  0.98843683,\n",
       "        0.9683607 ,  0.93860903,  0.89947909,  0.85136185,  0.79473809,\n",
       "        0.73017356,  0.65831338,  0.57987556,  0.4956438 ,  0.40645974,\n",
       "        0.31321447,  0.21683966,  0.11829826,  0.01857487, -0.08133412,\n",
       "       -0.18043045, -0.27772397, -0.37224257, -0.46304185, -0.54921456,\n",
       "       -0.6298997 , -0.70429109, -0.77164544, -0.83128976, -0.88262811,\n",
       "       -0.92514754, -0.95842319, -0.9821226 , -0.99600896, -0.99994353,\n",
       "       -0.99388699, -0.97789986, -0.95214189, -0.91687042, -0.87243789,\n",
       "       -0.81928825, -0.75795255, -0.68904363, -0.61325003, -0.53132903,\n",
       "       -0.44409916, -0.35243201, -0.25724347, -0.15948464, -0.06013229,\n",
       "        0.03982088,  0.13937617,  0.23753887,  0.33332815,  0.42578693,\n",
       "        0.51399138,  0.59706021,  0.67416341,  0.74453058,  0.80745866])"
      ]
     },
     "execution_count": 176,
     "metadata": {},
     "output_type": "execute_result"
    }
   ],
   "source": [
    "y= np.cos(x)\n",
    "y"
   ]
  },
  {
   "cell_type": "code",
   "execution_count": 177,
   "id": "0ba152f4",
   "metadata": {},
   "outputs": [
    {
     "data": {
      "text/plain": [
       "[<matplotlib.lines.Line2D at 0x2aab45572410>]"
      ]
     },
     "execution_count": 177,
     "metadata": {},
     "output_type": "execute_result"
    },
    {
     "data": {
      "image/png": "[encoded data removed]",
      "text/plain": [
       "<Figure size 640x480 with 1 Axes>"
      ]
     },
     "metadata": {},
     "output_type": "display_data"
    }
   ],
   "source": [
    "plt.plot(x,y)"
   ]
  },
  {
   "cell_type": "markdown",
   "id": "3b49a941",
   "metadata": {},
   "source": [
    "# Random sampling with numpy"
   ]
  },
  {
   "cell_type": "code",
   "execution_count": 157,
   "id": "5a00b64b",
   "metadata": {},
   "outputs": [],
   "source": [
    "import numpy as np\n",
    "import random"
   ]
  },
  {
   "cell_type": "code",
   "execution_count": 158,
   "id": "f9b4c646",
   "metadata": {},
   "outputs": [
    {
     "data": {
      "text/plain": [
       "array([0.65050107])"
      ]
     },
     "execution_count": 158,
     "metadata": {},
     "output_type": "execute_result"
    }
   ],
   "source": [
    "np.random.random(1)"
   ]
  },
  {
   "cell_type": "code",
   "execution_count": 159,
   "id": "77830ad2",
   "metadata": {},
   "outputs": [
    {
     "data": {
      "text/plain": [
       "array([[0.83350862, 0.24472506, 0.352601  ],\n",
       "       [0.39349558, 0.67684297, 0.2459573 ],\n",
       "       [0.92802777, 0.5084718 , 0.43344074]])"
      ]
     },
     "execution_count": 159,
     "metadata": {},
     "output_type": "execute_result"
    }
   ],
   "source": [
    "np.random.random((3,3))   #creates random values between 0 to 1"
   ]
  },
  {
   "cell_type": "code",
   "execution_count": 160,
   "id": "38d381e3",
   "metadata": {},
   "outputs": [
    {
     "data": {
      "text/plain": [
       "1"
      ]
     },
     "execution_count": 160,
     "metadata": {},
     "output_type": "execute_result"
    }
   ],
   "source": [
    "np.random.randint(1,10)  #creates random integer values between 1 to 10 but not 10"
   ]
  },
  {
   "cell_type": "code",
   "execution_count": 161,
   "id": "a68d22e5",
   "metadata": {},
   "outputs": [
    {
     "data": {
      "text/plain": [
       "array([[6, 9, 4],\n",
       "       [4, 1, 3],\n",
       "       [7, 1, 7]])"
      ]
     },
     "execution_count": 161,
     "metadata": {},
     "output_type": "execute_result"
    }
   ],
   "source": [
    "np.random.randint(1,10,(3,3))  #creates 2d array: a 3 by 3 matrix with integer values between 1 to 10"
   ]
  },
  {
   "cell_type": "code",
   "execution_count": 162,
   "id": "8928a9b0",
   "metadata": {},
   "outputs": [
    {
     "data": {
      "text/plain": [
       "array([[[4, 3, 4],\n",
       "        [3, 2, 2],\n",
       "        [1, 3, 3]],\n",
       "\n",
       "       [[3, 1, 1],\n",
       "        [2, 3, 4],\n",
       "        [3, 1, 1]]])"
      ]
     },
     "execution_count": 162,
     "metadata": {},
     "output_type": "execute_result"
    }
   ],
   "source": [
    "np.random.randint(1,5,(2,3,3))     #creates 3d array: a 3 by 3 matrix with integer values between 1 to 5"
   ]
  },
  {
   "cell_type": "code",
   "execution_count": 163,
   "id": "bf7be343",
   "metadata": {},
   "outputs": [
    {
     "data": {
      "text/plain": [
       "array([[5, 1, 2],\n",
       "       [1, 2, 9],\n",
       "       [1, 9, 7]])"
      ]
     },
     "execution_count": 163,
     "metadata": {},
     "output_type": "execute_result"
    }
   ],
   "source": [
    "np.random.seed(10)               #seed function doesn't change the value of the randomly generated integers\n",
    "np.random.randint(1,10,(3,3))"
   ]
  },
  {
   "cell_type": "code",
   "execution_count": 164,
   "id": "35757435",
   "metadata": {},
   "outputs": [
    {
     "name": "stdout",
     "output_type": "stream",
     "text": [
      "None\n",
      "[[5 1 2]\n",
      " [1 2 9]\n",
      " [1 9 7]]\n",
      "None\n",
      "[[5 1 2]\n",
      " [1 2 9]\n",
      " [1 9 7]]\n",
      "None\n",
      "[[5 1 2]\n",
      " [1 2 9]\n",
      " [1 9 7]]\n",
      "None\n",
      "[[5 1 2]\n",
      " [1 2 9]\n",
      " [1 9 7]]\n",
      "None\n",
      "[[5 1 2]\n",
      " [1 2 9]\n",
      " [1 9 7]]\n",
      "None\n",
      "[[5 1 2]\n",
      " [1 2 9]\n",
      " [1 9 7]]\n",
      "None\n",
      "[[5 1 2]\n",
      " [1 2 9]\n",
      " [1 9 7]]\n",
      "None\n",
      "[[5 1 2]\n",
      " [1 2 9]\n",
      " [1 9 7]]\n",
      "None\n",
      "[[5 1 2]\n",
      " [1 2 9]\n",
      " [1 9 7]]\n",
      "None\n",
      "[[5 1 2]\n",
      " [1 2 9]\n",
      " [1 9 7]]\n",
      "None\n",
      "[[5 1 2]\n",
      " [1 2 9]\n",
      " [1 9 7]]\n",
      "None\n",
      "[[5 1 2]\n",
      " [1 2 9]\n",
      " [1 9 7]]\n",
      "None\n",
      "[[5 1 2]\n",
      " [1 2 9]\n",
      " [1 9 7]]\n",
      "None\n",
      "[[5 1 2]\n",
      " [1 2 9]\n",
      " [1 9 7]]\n",
      "None\n",
      "[[5 1 2]\n",
      " [1 2 9]\n",
      " [1 9 7]]\n",
      "None\n",
      "[[5 1 2]\n",
      " [1 2 9]\n",
      " [1 9 7]]\n",
      "None\n",
      "[[5 1 2]\n",
      " [1 2 9]\n",
      " [1 9 7]]\n",
      "None\n",
      "[[5 1 2]\n",
      " [1 2 9]\n",
      " [1 9 7]]\n",
      "None\n",
      "[[5 1 2]\n",
      " [1 2 9]\n",
      " [1 9 7]]\n",
      "None\n",
      "[[5 1 2]\n",
      " [1 2 9]\n",
      " [1 9 7]]\n"
     ]
    }
   ],
   "source": [
    "for i in range(20):\n",
    "    print(np.random.seed(10))\n",
    "    print(np.random.randint(1,10,(3,3)))"
   ]
  },
  {
   "cell_type": "code",
   "execution_count": 165,
   "id": "4aa85c57",
   "metadata": {},
   "outputs": [
    {
     "data": {
      "text/plain": [
       "array([[0.68535982, 0.95339335],\n",
       "       [0.00394827, 0.51219226],\n",
       "       [0.81262096, 0.61252607]])"
      ]
     },
     "execution_count": 165,
     "metadata": {},
     "output_type": "execute_result"
    }
   ],
   "source": [
    "np.random.rand(3,2)    #directly creates 3 by 2 array with values between 0 to 1"
   ]
  },
  {
   "cell_type": "code",
   "execution_count": 166,
   "id": "d2c1690f",
   "metadata": {},
   "outputs": [
    {
     "data": {
      "text/plain": [
       "array([[-0.96506567,  1.02827408,  0.22863013],\n",
       "       [ 0.44513761, -1.13660221,  0.13513688],\n",
       "       [ 1.484537  , -1.07980489, -1.97772828]])"
      ]
     },
     "execution_count": 166,
     "metadata": {},
     "output_type": "execute_result"
    }
   ],
   "source": [
    "np.random.randn(3,3)  # creates 3 by 3 matrix of standard normal distributions"
   ]
  },
  {
   "cell_type": "code",
   "execution_count": 167,
   "id": "41aeebcd",
   "metadata": {},
   "outputs": [
    {
     "data": {
      "text/plain": [
       "2"
      ]
     },
     "execution_count": 167,
     "metadata": {},
     "output_type": "execute_result"
    }
   ],
   "source": [
    "x = [1,2,3,4,5]\n",
    "np.random.choice(x)  #takes a sequence x and sends different values from that sequence"
   ]
  },
  {
   "cell_type": "code",
   "execution_count": 168,
   "id": "0253bf09",
   "metadata": {},
   "outputs": [
    {
     "data": {
      "text/plain": [
       "5"
      ]
     },
     "execution_count": 168,
     "metadata": {},
     "output_type": "execute_result"
    }
   ],
   "source": [
    "np.random.choice(x)"
   ]
  },
  {
   "cell_type": "code",
   "execution_count": 169,
   "id": "04ee6a3b",
   "metadata": {},
   "outputs": [
    {
     "name": "stdout",
     "output_type": "stream",
     "text": [
      "i: 0 4\n",
      "i: 1 3\n",
      "i: 2 1\n",
      "i: 3 4\n",
      "i: 4 5\n",
      "i: 5 3\n",
      "i: 6 1\n",
      "i: 7 2\n",
      "i: 8 3\n",
      "i: 9 1\n"
     ]
    }
   ],
   "source": [
    "for i in range(10):\n",
    "    print(\"i:\",i, np.random.choice(x))"
   ]
  },
  {
   "cell_type": "code",
   "execution_count": 170,
   "id": "484b51ad",
   "metadata": {},
   "outputs": [
    {
     "data": {
      "text/plain": [
       "array([3, 5, 2, 4, 1])"
      ]
     },
     "execution_count": 170,
     "metadata": {},
     "output_type": "execute_result"
    }
   ],
   "source": [
    "np.random.permutation(x)   # delivers different permutations of x every time"
   ]
  },
  {
   "cell_type": "code",
   "execution_count": 171,
   "id": "56f0846d",
   "metadata": {},
   "outputs": [
    {
     "data": {
      "text/plain": [
       "array([3, 5, 2, 1, 4])"
      ]
     },
     "execution_count": 171,
     "metadata": {},
     "output_type": "execute_result"
    }
   ],
   "source": [
    "np.random.permutation(x)"
   ]
  },
  {
   "cell_type": "code",
   "execution_count": 172,
   "id": "ef34044e",
   "metadata": {},
   "outputs": [
    {
     "data": {
      "text/plain": [
       "array([2, 5, 4, 1, 3])"
      ]
     },
     "execution_count": 172,
     "metadata": {},
     "output_type": "execute_result"
    }
   ],
   "source": [
    "np.random.permutation(x)"
   ]
  },
  {
   "cell_type": "markdown",
   "id": "f12b1dcc",
   "metadata": {},
   "source": [
    "# String operation, comparison and information"
   ]
  },
  {
   "cell_type": "code",
   "execution_count": 185,
   "id": "4c113172",
   "metadata": {},
   "outputs": [],
   "source": [
    "str1 = \"My name is\"\n",
    "str2 = \"Md Jubair Pantho\""
   ]
  },
  {
   "cell_type": "code",
   "execution_count": 186,
   "id": "84550469",
   "metadata": {},
   "outputs": [
    {
     "data": {
      "text/plain": [
       "array('My name isMd Jubair Pantho', dtype='<U26')"
      ]
     },
     "execution_count": 186,
     "metadata": {},
     "output_type": "execute_result"
    }
   ],
   "source": [
    "np.char.add(str1,str2)   #adds two strings"
   ]
  },
  {
   "cell_type": "code",
   "execution_count": 187,
   "id": "8b38e9c7",
   "metadata": {},
   "outputs": [
    {
     "data": {
      "text/plain": [
       "array('my name is', dtype='<U10')"
      ]
     },
     "execution_count": 187,
     "metadata": {},
     "output_type": "execute_result"
    }
   ],
   "source": [
    "np.char.lower(str1)  #converts to lower case"
   ]
  },
  {
   "cell_type": "code",
   "execution_count": 188,
   "id": "66189ea1",
   "metadata": {},
   "outputs": [
    {
     "data": {
      "text/plain": [
       "array('MD JUBAIR PANTHO', dtype='<U16')"
      ]
     },
     "execution_count": 188,
     "metadata": {},
     "output_type": "execute_result"
    }
   ],
   "source": [
    "np.char.upper(str2)   #converts to uppercase"
   ]
  },
  {
   "cell_type": "code",
   "execution_count": 190,
   "id": "81a3b5a5",
   "metadata": {},
   "outputs": [
    {
     "data": {
      "text/plain": [
       "array('          My name is          ', dtype='<U30')"
      ]
     },
     "execution_count": 190,
     "metadata": {},
     "output_type": "execute_result"
    }
   ],
   "source": [
    "np.char.center(str1, 30)   #total character length 30 and puts str1 to the middle"
   ]
  },
  {
   "cell_type": "code",
   "execution_count": 191,
   "id": "6d12106b",
   "metadata": {},
   "outputs": [
    {
     "data": {
      "text/plain": [
       "array('**********My name is**********', dtype='<U30')"
      ]
     },
     "execution_count": 191,
     "metadata": {},
     "output_type": "execute_result"
    }
   ],
   "source": [
    "np.char.center(str1, 30, fillchar=\"*\")    #total character length is 30 and puts str1 to middle and fills with *"
   ]
  },
  {
   "cell_type": "code",
   "execution_count": 198,
   "id": "48e20674",
   "metadata": {},
   "outputs": [
    {
     "data": {
      "text/plain": [
       "array(list(['Md', 'Jubair', 'Pantho']), dtype=object)"
      ]
     },
     "execution_count": 198,
     "metadata": {},
     "output_type": "execute_result"
    }
   ],
   "source": [
    "np.char.split(str2)"
   ]
  },
  {
   "cell_type": "code",
   "execution_count": 199,
   "id": "22501be8",
   "metadata": {},
   "outputs": [
    {
     "data": {
      "text/plain": [
       "array(list(['Md', 'Jubair', 'Pantho']), dtype=object)"
      ]
     },
     "execution_count": 199,
     "metadata": {},
     "output_type": "execute_result"
    }
   ],
   "source": [
    "np.char.splitlines(\"Md\\nJubair\\nPantho\")"
   ]
  },
  {
   "cell_type": "code",
   "execution_count": 200,
   "id": "6f3589a4",
   "metadata": {},
   "outputs": [],
   "source": [
    "str3 = \"japan\"\n",
    "str4 = \"japan\""
   ]
  },
  {
   "cell_type": "code",
   "execution_count": 203,
   "id": "a3ea1dd0",
   "metadata": {},
   "outputs": [
    {
     "data": {
      "text/plain": [
       "array(['j:a:p:a:n', 'j/a/p/a/n'], dtype='<U9')"
      ]
     },
     "execution_count": 203,
     "metadata": {},
     "output_type": "execute_result"
    }
   ],
   "source": [
    "np.char.join([\":\", \"/\"], [str3, str4])    # joined two charater with : and /"
   ]
  },
  {
   "cell_type": "code",
   "execution_count": 205,
   "id": "0f131ec8",
   "metadata": {},
   "outputs": [
    {
     "data": {
      "text/plain": [
       "'My name is'"
      ]
     },
     "execution_count": 205,
     "metadata": {},
     "output_type": "execute_result"
    }
   ],
   "source": [
    "str1"
   ]
  },
  {
   "cell_type": "code",
   "execution_count": 206,
   "id": "743ec1f7",
   "metadata": {},
   "outputs": [
    {
     "data": {
      "text/plain": [
       "array('My age is', dtype='<U9')"
      ]
     },
     "execution_count": 206,
     "metadata": {},
     "output_type": "execute_result"
    }
   ],
   "source": [
    "np.char.replace(str1, \"name\", \"age\")   #replaced str1 and its \"name\" with \"age\""
   ]
  },
  {
   "cell_type": "code",
   "execution_count": 207,
   "id": "e8cae798",
   "metadata": {},
   "outputs": [
    {
     "data": {
      "text/plain": [
       "array(True)"
      ]
     },
     "execution_count": 207,
     "metadata": {},
     "output_type": "execute_result"
    }
   ],
   "source": [
    "# comparing two strings to see if they are equal or not\n",
    "\n",
    "np.char.equal(str3, str4)"
   ]
  },
  {
   "cell_type": "code",
   "execution_count": 208,
   "id": "dd803242",
   "metadata": {},
   "outputs": [
    {
     "data": {
      "text/plain": [
       "array(False)"
      ]
     },
     "execution_count": 208,
     "metadata": {},
     "output_type": "execute_result"
    }
   ],
   "source": [
    "np.char.equal(str1, str2)"
   ]
  },
  {
   "cell_type": "code",
   "execution_count": 211,
   "id": "f7c0cf58",
   "metadata": {},
   "outputs": [
    {
     "data": {
      "text/plain": [
       "'Md Jubair Pantho'"
      ]
     },
     "execution_count": 211,
     "metadata": {},
     "output_type": "execute_result"
    }
   ],
   "source": [
    "str2"
   ]
  },
  {
   "cell_type": "code",
   "execution_count": 212,
   "id": "a9901e74",
   "metadata": {},
   "outputs": [
    {
     "data": {
      "text/plain": [
       "array(2)"
      ]
     },
     "execution_count": 212,
     "metadata": {},
     "output_type": "execute_result"
    }
   ],
   "source": [
    "# counting a specific letter from a string\n",
    "np.char.count(str2, \"a\")"
   ]
  },
  {
   "cell_type": "code",
   "execution_count": 216,
   "id": "e0487b91",
   "metadata": {},
   "outputs": [
    {
     "data": {
      "text/plain": [
       "'Md Jubair Pantho'"
      ]
     },
     "execution_count": 216,
     "metadata": {},
     "output_type": "execute_result"
    }
   ],
   "source": [
    "str2"
   ]
  },
  {
   "cell_type": "code",
   "execution_count": 217,
   "id": "4e172083",
   "metadata": {},
   "outputs": [
    {
     "data": {
      "text/plain": [
       "array(10)"
      ]
     },
     "execution_count": 217,
     "metadata": {},
     "output_type": "execute_result"
    }
   ],
   "source": [
    "# finding a specific character in a string\n",
    "\n",
    "np.char.find(str2, \"P\")"
   ]
  },
  {
   "cell_type": "code",
   "execution_count": null,
   "id": "e211b6fa",
   "metadata": {},
   "outputs": [],
   "source": []
  }
 ],
 "metadata": {
  "kernelspec": {
   "display_name": "Python 3 (ipykernel)",
   "language": "python",
   "name": "python3"
  },
  "language_info": {
   "codemirror_mode": {
    "name": "ipython",
    "version": 3
   },
   "file_extension": ".py",
   "mimetype": "text/x-python",
   "name": "python",
   "nbconvert_exporter": "python",
   "pygments_lexer": "ipython3",
   "version": "3.10.4"
  }
 },
 "nbformat": 4,
 "nbformat_minor": 5
}
