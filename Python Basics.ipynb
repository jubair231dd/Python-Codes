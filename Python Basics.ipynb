{
 "cells": [
  {
   "cell_type": "markdown",
   "id": "7fd263f8-7db2-44b0-9cd8-fb85143ae232",
   "metadata": {},
   "source": [
    "## Printing Output"
   ]
  },
  {
   "cell_type": "code",
   "execution_count": 1,
   "id": "37f82acf-68d0-4f8a-bcbf-1dabdfdc8284",
   "metadata": {},
   "outputs": [
    {
     "name": "stdout",
     "output_type": "stream",
     "text": [
      "hello world!\n"
     ]
    }
   ],
   "source": [
    "print(\"hello world!\")"
   ]
  },
  {
   "cell_type": "markdown",
   "id": "20e5fb7f-b312-4cdc-bf2a-3995b5d2b798",
   "metadata": {},
   "source": [
    "## Printing Outputs and Variables"
   ]
  },
  {
   "cell_type": "code",
   "execution_count": 2,
   "id": "93331e93-443f-4471-bea9-aae658bab938",
   "metadata": {},
   "outputs": [
    {
     "name": "stdout",
     "output_type": "stream",
     "text": [
      "5\n",
      "35.4\n",
      "5\n"
     ]
    }
   ],
   "source": [
    "print(5)\n",
    "print(35.4)\n",
    "print(\"5\")"
   ]
  },
  {
   "cell_type": "code",
   "execution_count": 3,
   "id": "1947d445-e00a-4b83-bc51-56a1c3bfe209",
   "metadata": {},
   "outputs": [
    {
     "name": "stdout",
     "output_type": "stream",
     "text": [
      "<class 'int'>\n",
      "<class 'float'>\n",
      "<class 'str'>\n"
     ]
    }
   ],
   "source": [
    "print(type(5))\n",
    "print(type(35.4))\n",
    "print(type(\"5\"))"
   ]
  },
  {
   "cell_type": "code",
   "execution_count": 4,
   "id": "cb8b96ee-884c-48a2-9c0e-65d49c264a83",
   "metadata": {},
   "outputs": [
    {
     "name": "stdout",
     "output_type": "stream",
     "text": [
      "Chattanooga\n",
      "Barishal\n"
     ]
    }
   ],
   "source": [
    "city = \"Chattanooga\"\n",
    "print(city)\n",
    "city = \"Barishal\"\n",
    "print(city)"
   ]
  },
  {
   "cell_type": "code",
   "execution_count": 5,
   "id": "38673e1d-a4e9-4ae9-885e-87b43688e3dd",
   "metadata": {},
   "outputs": [
    {
     "data": {
      "text/plain": [
       "str"
      ]
     },
     "execution_count": 5,
     "metadata": {},
     "output_type": "execute_result"
    }
   ],
   "source": [
    "type(city)"
   ]
  },
  {
   "cell_type": "code",
   "execution_count": 6,
   "id": "6ea12ab8-1cf8-4e72-aae4-da4fe788bc9f",
   "metadata": {},
   "outputs": [
    {
     "name": "stdout",
     "output_type": "stream",
     "text": [
      "City: Barishal\n"
     ]
    }
   ],
   "source": [
    "print(\"City:\",\"Barishal\")"
   ]
  },
  {
   "cell_type": "code",
   "execution_count": 7,
   "id": "808547fe-4e81-44a6-933c-a86fd45d05b8",
   "metadata": {},
   "outputs": [
    {
     "name": "stdout",
     "output_type": "stream",
     "text": [
      "Subject: Math number: 5\n"
     ]
    }
   ],
   "source": [
    "subject = \"Math\"\n",
    "number = 5\n",
    "print(\"Subject:\", subject, \"number:\", number)"
   ]
  },
  {
   "cell_type": "markdown",
   "id": "8c0a0971-18c0-41b1-981a-a24241ef5760",
   "metadata": {},
   "source": [
    "## Input Function"
   ]
  },
  {
   "cell_type": "code",
   "execution_count": 8,
   "id": "bae21199-c584-4beb-92e1-9d5ed485e6f1",
   "metadata": {},
   "outputs": [
    {
     "name": "stdin",
     "output_type": "stream",
     "text": [
      "Enter the name of the customer: 4\n"
     ]
    },
    {
     "name": "stdout",
     "output_type": "stream",
     "text": [
      "4\n"
     ]
    }
   ],
   "source": [
    "#Takes a name as input and returns a string\n",
    "#Input function always returns a string, integers and floats have to be converted \n",
    "\n",
    "name = input(\"Enter the name of the customer:\")\n",
    "print(name)"
   ]
  },
  {
   "cell_type": "code",
   "execution_count": 9,
   "id": "f6a3526c-291f-4668-8a1a-7d5cbd9546f2",
   "metadata": {},
   "outputs": [
    {
     "name": "stdin",
     "output_type": "stream",
     "text": [
      "Enter the numbers of the customers: 4\n"
     ]
    },
    {
     "data": {
      "text/plain": [
       "int"
      ]
     },
     "execution_count": 9,
     "metadata": {},
     "output_type": "execute_result"
    }
   ],
   "source": [
    "number = int(input(\"Enter the numbers of the customers:\"))\n",
    "number\n",
    "type(number)\n"
   ]
  },
  {
   "cell_type": "code",
   "execution_count": 10,
   "id": "bb5333dc-0974-4b20-8830-4b6479372bb0",
   "metadata": {},
   "outputs": [
    {
     "data": {
      "text/plain": [
       "int"
      ]
     },
     "execution_count": 10,
     "metadata": {},
     "output_type": "execute_result"
    }
   ],
   "source": [
    "type(int(number))"
   ]
  },
  {
   "cell_type": "code",
   "execution_count": 11,
   "id": "bc1f2d45-ce13-4c45-b516-7fa1409a51e7",
   "metadata": {},
   "outputs": [
    {
     "name": "stdout",
     "output_type": "stream",
     "text": [
      "<class 'int'>\n"
     ]
    }
   ],
   "source": [
    "num1 = 5\n",
    "print(type(num1))"
   ]
  },
  {
   "cell_type": "code",
   "execution_count": 12,
   "id": "d68c1acb-441c-4f16-99ba-a64db400a122",
   "metadata": {},
   "outputs": [
    {
     "name": "stdout",
     "output_type": "stream",
     "text": [
      "<class 'float'>\n"
     ]
    }
   ],
   "source": [
    "num2 = 10.5\n",
    "print(type(num2))"
   ]
  },
  {
   "cell_type": "code",
   "execution_count": 13,
   "id": "f138795d-d55c-482c-840d-52e8f5a920bc",
   "metadata": {},
   "outputs": [
    {
     "name": "stdin",
     "output_type": "stream",
     "text": [
      "Enter the number: 4\n"
     ]
    },
    {
     "data": {
      "text/plain": [
       "4"
      ]
     },
     "execution_count": 13,
     "metadata": {},
     "output_type": "execute_result"
    }
   ],
   "source": [
    "#Program takes a number as input and returns it as an integer number\n",
    "\n",
    "number = int(input(\"Enter the number:\"))\n",
    "number "
   ]
  },
  {
   "cell_type": "code",
   "execution_count": 14,
   "id": "59fcca1b-1767-4dbf-884a-682cfa93ba12",
   "metadata": {},
   "outputs": [
    {
     "name": "stdin",
     "output_type": "stream",
     "text": [
      "Enter the fraction: 4\n"
     ]
    },
    {
     "data": {
      "text/plain": [
       "4.0"
      ]
     },
     "execution_count": 14,
     "metadata": {},
     "output_type": "execute_result"
    }
   ],
   "source": [
    "#Program takes a number as input and returns it as a float number\n",
    "\n",
    "fractional_num = float(input(\"Enter the fraction:\"))\n",
    "fractional_num"
   ]
  },
  {
   "cell_type": "code",
   "execution_count": 15,
   "id": "a9e39c29-4225-434a-8af2-d1ce172a72a4",
   "metadata": {},
   "outputs": [
    {
     "data": {
      "text/plain": [
       "7"
      ]
     },
     "execution_count": 15,
     "metadata": {},
     "output_type": "execute_result"
    }
   ],
   "source": [
    "x = 5\n",
    "y = 2\n",
    "x+y"
   ]
  },
  {
   "cell_type": "code",
   "execution_count": 16,
   "id": "3dcdcb80-5272-4bb5-9848-906fc761bc38",
   "metadata": {},
   "outputs": [
    {
     "data": {
      "text/plain": [
       "3"
      ]
     },
     "execution_count": 16,
     "metadata": {},
     "output_type": "execute_result"
    }
   ],
   "source": [
    "x-y"
   ]
  },
  {
   "cell_type": "code",
   "execution_count": 17,
   "id": "7f0ead0f-3c57-44fa-ab20-51ef45c31486",
   "metadata": {},
   "outputs": [
    {
     "data": {
      "text/plain": [
       "10"
      ]
     },
     "execution_count": 17,
     "metadata": {},
     "output_type": "execute_result"
    }
   ],
   "source": [
    "x*y\n"
   ]
  },
  {
   "cell_type": "code",
   "execution_count": 18,
   "id": "aca66657-6079-41c9-81bf-095e687f3852",
   "metadata": {},
   "outputs": [
    {
     "data": {
      "text/plain": [
       "25"
      ]
     },
     "execution_count": 18,
     "metadata": {},
     "output_type": "execute_result"
    }
   ],
   "source": [
    "x**y"
   ]
  },
  {
   "cell_type": "code",
   "execution_count": 19,
   "id": "1eec26c5-2ebf-4f20-8572-3af396a5331a",
   "metadata": {},
   "outputs": [
    {
     "data": {
      "text/plain": [
       "2.5"
      ]
     },
     "execution_count": 19,
     "metadata": {},
     "output_type": "execute_result"
    }
   ],
   "source": [
    "x/y"
   ]
  },
  {
   "cell_type": "code",
   "execution_count": 20,
   "id": "fe5a5fa5-1d02-4d3a-a24a-16332eaa107b",
   "metadata": {},
   "outputs": [
    {
     "name": "stdout",
     "output_type": "stream",
     "text": [
      "Quotient is: 1\n",
      "Remainder is: 3\n"
     ]
    }
   ],
   "source": [
    "x = 7 \n",
    "y = 4\n",
    "\n",
    "Quotient = x // y\n",
    "Remainder = x % y\n",
    "\n",
    "print(\"Quotient is:\", Quotient)\n",
    "print(\"Remainder is:\", Remainder)"
   ]
  },
  {
   "cell_type": "markdown",
   "id": "63fd993d-620e-4e2c-8ac8-c3dd050d1b43",
   "metadata": {},
   "source": [
    "## Concatination of strings"
   ]
  },
  {
   "cell_type": "code",
   "execution_count": 21,
   "id": "4ccfe46b-895f-4780-ba1c-32cef0016e4f",
   "metadata": {},
   "outputs": [
    {
     "name": "stdout",
     "output_type": "stream",
     "text": [
      "Hey Jude\n"
     ]
    }
   ],
   "source": [
    "str1 = \"Hey\"\n",
    "str2 = \"Jude\"\n",
    "print(str1 + \" \" + str2)"
   ]
  },
  {
   "cell_type": "markdown",
   "id": "bf240e51-70dc-48cb-83ae-d816b603de7f",
   "metadata": {},
   "source": [
    "## Assignment Operator"
   ]
  },
  {
   "cell_type": "code",
   "execution_count": 22,
   "id": "ff969a08-f14f-4d9c-8f1a-a229b76dc124",
   "metadata": {},
   "outputs": [],
   "source": [
    "x,y,z = 5,6,7"
   ]
  },
  {
   "cell_type": "code",
   "execution_count": 23,
   "id": "bddb2912-db7b-47c7-ba8b-afbc6501ab4f",
   "metadata": {},
   "outputs": [
    {
     "data": {
      "text/plain": [
       "5"
      ]
     },
     "execution_count": 23,
     "metadata": {},
     "output_type": "execute_result"
    }
   ],
   "source": [
    "x"
   ]
  },
  {
   "cell_type": "code",
   "execution_count": 24,
   "id": "1792abb5-4f03-42b9-9291-76cce8198602",
   "metadata": {},
   "outputs": [
    {
     "data": {
      "text/plain": [
       "6"
      ]
     },
     "execution_count": 24,
     "metadata": {},
     "output_type": "execute_result"
    }
   ],
   "source": [
    "y"
   ]
  },
  {
   "cell_type": "code",
   "execution_count": 25,
   "id": "417fc16f-7d24-420a-905e-2d1c70e2f0c6",
   "metadata": {},
   "outputs": [
    {
     "data": {
      "text/plain": [
       "7"
      ]
     },
     "execution_count": 25,
     "metadata": {},
     "output_type": "execute_result"
    }
   ],
   "source": [
    "z"
   ]
  },
  {
   "cell_type": "code",
   "execution_count": 26,
   "id": "443d3924-1466-490f-b38c-cfba067c1270",
   "metadata": {},
   "outputs": [],
   "source": [
    "x = 5"
   ]
  },
  {
   "cell_type": "code",
   "execution_count": 27,
   "id": "da8bcc82-a5ca-4275-a641-a7d2238a1cdf",
   "metadata": {},
   "outputs": [],
   "source": [
    "x += 10  # x = x+10"
   ]
  },
  {
   "cell_type": "code",
   "execution_count": 28,
   "id": "1f393eb6-47df-4fe0-bd4a-ac43aeb77dc5",
   "metadata": {},
   "outputs": [
    {
     "data": {
      "text/plain": [
       "15"
      ]
     },
     "execution_count": 28,
     "metadata": {},
     "output_type": "execute_result"
    }
   ],
   "source": [
    "x"
   ]
  },
  {
   "cell_type": "code",
   "execution_count": 29,
   "id": "55c9fe13-f4b0-4a57-bc67-6d585a5bdb3c",
   "metadata": {},
   "outputs": [],
   "source": [
    "x = 5"
   ]
  },
  {
   "cell_type": "code",
   "execution_count": 30,
   "id": "3b1ca5ad-c82f-4966-b2fb-9b007c6437cb",
   "metadata": {},
   "outputs": [],
   "source": [
    "x -= 10  # x = x-10"
   ]
  },
  {
   "cell_type": "code",
   "execution_count": 31,
   "id": "45bf0cb5-110e-47fa-9d76-2fdd87139934",
   "metadata": {},
   "outputs": [
    {
     "data": {
      "text/plain": [
       "-5"
      ]
     },
     "execution_count": 31,
     "metadata": {},
     "output_type": "execute_result"
    }
   ],
   "source": [
    "x"
   ]
  },
  {
   "cell_type": "code",
   "execution_count": 32,
   "id": "4f73e1ad-077f-4322-8fbd-f5a5d091c3be",
   "metadata": {},
   "outputs": [
    {
     "data": {
      "text/plain": [
       "4081.5"
      ]
     },
     "execution_count": 32,
     "metadata": {},
     "output_type": "execute_result"
    }
   ],
   "source": [
    "tuition = 4535\n",
    "pay_after_discount = tuition - 0.1*tuition\n",
    "pay_after_discount"
   ]
  },
  {
   "cell_type": "code",
   "execution_count": 33,
   "id": "fe7341fa-2d6f-4afc-b4ba-e92fc17eeb20",
   "metadata": {},
   "outputs": [
    {
     "name": "stdin",
     "output_type": "stream",
     "text": [
      "Enter distance in kilometers: 4\n"
     ]
    },
    {
     "data": {
      "text/plain": [
       "2.485484"
      ]
     },
     "execution_count": 33,
     "metadata": {},
     "output_type": "execute_result"
    }
   ],
   "source": [
    "# Program to convert km to miles\n",
    "\n",
    "km = float(input(\"Enter distance in kilometers:\"))\n",
    "\n",
    "miles = 0.621371 * km\n",
    "miles\n",
    "                 \n",
    "                 "
   ]
  },
  {
   "cell_type": "markdown",
   "id": "988c4440-486f-48af-b8b2-96464962c862",
   "metadata": {},
   "source": [
    "## Booleans"
   ]
  },
  {
   "cell_type": "code",
   "execution_count": 34,
   "id": "fb80b057-9f5e-4225-b357-d833a0b1d713",
   "metadata": {},
   "outputs": [],
   "source": [
    "res1 = True\n",
    "res2 = False"
   ]
  },
  {
   "cell_type": "code",
   "execution_count": 35,
   "id": "145fa233-2d61-42f4-a1d4-9b52f1bcae85",
   "metadata": {},
   "outputs": [
    {
     "data": {
      "text/plain": [
       "True"
      ]
     },
     "execution_count": 35,
     "metadata": {},
     "output_type": "execute_result"
    }
   ],
   "source": [
    "res1"
   ]
  },
  {
   "cell_type": "code",
   "execution_count": 36,
   "id": "2d9d14dd-1348-43d6-ad6a-2c3ef6ef6aeb",
   "metadata": {},
   "outputs": [
    {
     "data": {
      "text/plain": [
       "False"
      ]
     },
     "execution_count": 36,
     "metadata": {},
     "output_type": "execute_result"
    }
   ],
   "source": [
    "res2"
   ]
  },
  {
   "cell_type": "code",
   "execution_count": 37,
   "id": "4969cf9e-9448-4289-81e8-d95550c17a92",
   "metadata": {},
   "outputs": [
    {
     "data": {
      "text/plain": [
       "False"
      ]
     },
     "execution_count": 37,
     "metadata": {},
     "output_type": "execute_result"
    }
   ],
   "source": [
    "res1==res2"
   ]
  },
  {
   "cell_type": "markdown",
   "id": "ee6b672e-394c-4387-a174-d046238d15af",
   "metadata": {},
   "source": [
    "## Comparison Operator"
   ]
  },
  {
   "cell_type": "code",
   "execution_count": 38,
   "id": "0f25d2b2-e574-445d-bd17-d7261e4d22bd",
   "metadata": {},
   "outputs": [],
   "source": [
    "number = 5 "
   ]
  },
  {
   "cell_type": "code",
   "execution_count": 39,
   "id": "88e9ca03-c7a5-4b2f-84e9-d2dbe66b721f",
   "metadata": {},
   "outputs": [
    {
     "data": {
      "text/plain": [
       "False"
      ]
     },
     "execution_count": 39,
     "metadata": {},
     "output_type": "execute_result"
    }
   ],
   "source": [
    "number >10"
   ]
  },
  {
   "cell_type": "code",
   "execution_count": 40,
   "id": "5c09a064-1fd8-4489-98fe-4f60ae5e7dc6",
   "metadata": {},
   "outputs": [
    {
     "data": {
      "text/plain": [
       "True"
      ]
     },
     "execution_count": 40,
     "metadata": {},
     "output_type": "execute_result"
    }
   ],
   "source": [
    "number < 10"
   ]
  },
  {
   "cell_type": "code",
   "execution_count": 41,
   "id": "d12fa104-7873-4a4a-8fba-78212491fe6d",
   "metadata": {},
   "outputs": [
    {
     "data": {
      "text/plain": [
       "True"
      ]
     },
     "execution_count": 41,
     "metadata": {},
     "output_type": "execute_result"
    }
   ],
   "source": [
    "number == 5"
   ]
  },
  {
   "cell_type": "code",
   "execution_count": 42,
   "id": "b0ac3cb2-1ebe-4b1f-a5b8-43d0274c990c",
   "metadata": {},
   "outputs": [
    {
     "data": {
      "text/plain": [
       "True"
      ]
     },
     "execution_count": 42,
     "metadata": {},
     "output_type": "execute_result"
    }
   ],
   "source": [
    "number >=5"
   ]
  },
  {
   "cell_type": "code",
   "execution_count": 43,
   "id": "2d0827a5-c2d0-4e05-9c36-f932317bb4a9",
   "metadata": {},
   "outputs": [
    {
     "data": {
      "text/plain": [
       "True"
      ]
     },
     "execution_count": 43,
     "metadata": {},
     "output_type": "execute_result"
    }
   ],
   "source": [
    "number <= 5"
   ]
  },
  {
   "cell_type": "code",
   "execution_count": 44,
   "id": "133ccbc5-249c-48b8-a444-0905abb2e177",
   "metadata": {},
   "outputs": [
    {
     "data": {
      "text/plain": [
       "True"
      ]
     },
     "execution_count": 44,
     "metadata": {},
     "output_type": "execute_result"
    }
   ],
   "source": [
    "number != 10"
   ]
  },
  {
   "cell_type": "markdown",
   "id": "0e4e33da-3870-412a-a805-d3f729337419",
   "metadata": {},
   "source": [
    "## And or not"
   ]
  },
  {
   "cell_type": "code",
   "execution_count": 45,
   "id": "3aec1a08-3650-4088-b97b-c27c0492729d",
   "metadata": {},
   "outputs": [],
   "source": [
    "age = 30 \n",
    "gpa = 3.6\n"
   ]
  },
  {
   "cell_type": "code",
   "execution_count": 46,
   "id": "acefa185-a51b-485e-99a8-3eac2a2725b8",
   "metadata": {},
   "outputs": [],
   "source": [
    "result = age <=30 and gpa >2.8"
   ]
  },
  {
   "cell_type": "code",
   "execution_count": 47,
   "id": "70d3e068-dcaa-436e-9ae3-d20f7076c1a8",
   "metadata": {},
   "outputs": [
    {
     "data": {
      "text/plain": [
       "True"
      ]
     },
     "execution_count": 47,
     "metadata": {},
     "output_type": "execute_result"
    }
   ],
   "source": [
    "result"
   ]
  },
  {
   "cell_type": "code",
   "execution_count": 48,
   "id": "2f4fbd76-6629-4774-8117-50b87df25750",
   "metadata": {},
   "outputs": [],
   "source": [
    "result = age <30 or gpa >2.8"
   ]
  },
  {
   "cell_type": "code",
   "execution_count": 49,
   "id": "355bdfdc-c7ee-4eae-9970-dd8ee7ebd01f",
   "metadata": {},
   "outputs": [
    {
     "data": {
      "text/plain": [
       "True"
      ]
     },
     "execution_count": 49,
     "metadata": {},
     "output_type": "execute_result"
    }
   ],
   "source": [
    "result"
   ]
  },
  {
   "cell_type": "code",
   "execution_count": 50,
   "id": "c541794b-a483-4b19-a0f0-8a92ce479a0a",
   "metadata": {},
   "outputs": [],
   "source": [
    "result = not (age <30 or gpa >2.8)"
   ]
  },
  {
   "cell_type": "code",
   "execution_count": 51,
   "id": "3248c891-ec26-4152-90be-1dc15dfb2143",
   "metadata": {},
   "outputs": [
    {
     "data": {
      "text/plain": [
       "False"
      ]
     },
     "execution_count": 51,
     "metadata": {},
     "output_type": "execute_result"
    }
   ],
   "source": [
    "result"
   ]
  },
  {
   "cell_type": "markdown",
   "id": "3b31ff3f-254e-4c6a-9cd9-9fad420ad53a",
   "metadata": {},
   "source": [
    "# task"
   ]
  },
  {
   "cell_type": "code",
   "execution_count": 52,
   "id": "ef04e8f4-ce1f-4425-af89-25dd4e1de6e1",
   "metadata": {},
   "outputs": [],
   "source": [
    "language = \"python\""
   ]
  },
  {
   "cell_type": "code",
   "execution_count": 53,
   "id": "30f96d42-b5de-4fe0-bb89-1f34e00e5a0a",
   "metadata": {},
   "outputs": [
    {
     "name": "stdout",
     "output_type": "stream",
     "text": [
      "1. True\n"
     ]
    }
   ],
   "source": [
    "print(\"1.\", language ==\"python\")"
   ]
  },
  {
   "cell_type": "code",
   "execution_count": 54,
   "id": "33b27726-b1f3-49b5-9790-c8eee6618975",
   "metadata": {},
   "outputs": [],
   "source": [
    "age = 18"
   ]
  },
  {
   "cell_type": "code",
   "execution_count": 55,
   "id": "af5b0946-65f7-4197-99b1-65595e777f3a",
   "metadata": {},
   "outputs": [
    {
     "data": {
      "text/plain": [
       "True"
      ]
     },
     "execution_count": 55,
     "metadata": {},
     "output_type": "execute_result"
    }
   ],
   "source": [
    "age >=18"
   ]
  },
  {
   "cell_type": "code",
   "execution_count": 56,
   "id": "1cfae13b-30be-4a24-9802-fba7757fc4ed",
   "metadata": {},
   "outputs": [
    {
     "data": {
      "text/plain": [
       "False"
      ]
     },
     "execution_count": 56,
     "metadata": {},
     "output_type": "execute_result"
    }
   ],
   "source": [
    "age >18"
   ]
  },
  {
   "cell_type": "code",
   "execution_count": 57,
   "id": "db73a040-f20c-4c94-9dbd-3dc2b01d243a",
   "metadata": {},
   "outputs": [
    {
     "data": {
      "text/plain": [
       "False"
      ]
     },
     "execution_count": 57,
     "metadata": {},
     "output_type": "execute_result"
    }
   ],
   "source": [
    "language == \"java\" and age >=18"
   ]
  },
  {
   "cell_type": "markdown",
   "id": "32d52eba-2a6b-4e04-a117-91511d432fab",
   "metadata": {},
   "source": [
    "# If statement"
   ]
  },
  {
   "cell_type": "code",
   "execution_count": 58,
   "id": "71df31f1-dde2-4430-88ec-3c075e5d69b4",
   "metadata": {},
   "outputs": [
    {
     "name": "stdin",
     "output_type": "stream",
     "text": [
      "Enter the number: 4\n"
     ]
    },
    {
     "name": "stdout",
     "output_type": "stream",
     "text": [
      "Retake the exam again\n"
     ]
    }
   ],
   "source": [
    "number = int(input(\"Enter the number:\"))\n",
    "\n",
    "if (number >=90 and number < 100):\n",
    "    print(\"You got A\")\n",
    "elif (number >=80 and number < 90):\n",
    "    print(\"You got B\")\n",
    "else:\n",
    "    print(\"Retake the exam again\")\n",
    "    "
   ]
  },
  {
   "cell_type": "markdown",
   "id": "6e4d6884-a945-499d-af54-e9ce238b5a50",
   "metadata": {},
   "source": [
    "# While loop"
   ]
  },
  {
   "cell_type": "code",
   "execution_count": 61,
   "id": "0cb181a4-e389-40c3-824f-8722f3affa82",
   "metadata": {},
   "outputs": [
    {
     "name": "stdin",
     "output_type": "stream",
     "text": [
      "Enter the customers number: 5\n"
     ]
    },
    {
     "name": "stdout",
     "output_type": "stream",
     "text": [
      "This is number: 5\n",
      "This is number: 6\n",
      "This is number: 7\n",
      "This is number: 8\n",
      "This is number: 9\n",
      "This is number: 10\n"
     ]
    }
   ],
   "source": [
    "x = int(input(\"Enter the customers number:\"))\n",
    "while x<=10:\n",
    "  print(\"This is number:\", x)\n",
    "    \n",
    "  x = x+1\n",
    "    "
   ]
  },
  {
   "cell_type": "markdown",
   "id": "717438b4-32aa-431f-b67f-b3c4b475a1d3",
   "metadata": {},
   "source": [
    "# Multiplication table"
   ]
  },
  {
   "cell_type": "code",
   "execution_count": 1,
   "id": "1f98ddcb-e2c7-43f4-a38f-bbb55da5fd87",
   "metadata": {},
   "outputs": [
    {
     "name": "stdin",
     "output_type": "stream",
     "text": [
      "Enter the number1: 4\n"
     ]
    },
    {
     "name": "stdout",
     "output_type": "stream",
     "text": [
      "4 * 1 = 4\n",
      "4 * 2 = 8\n",
      "4 * 3 = 12\n",
      "4 * 4 = 16\n",
      "4 * 5 = 20\n",
      "4 * 6 = 24\n",
      "4 * 7 = 28\n",
      "4 * 8 = 32\n",
      "4 * 9 = 36\n",
      "4 * 10 = 40\n"
     ]
    }
   ],
   "source": [
    "number1 = int(input(\"Enter the number1:\"))\n",
    "number2 = 1\n",
    "\n",
    "while number2 <= 10:\n",
    "    mul = number1 * number2\n",
    "    print (number1, \"*\", number2, \"=\", mul)\n",
    "    number2 = number2+1"
   ]
  },
  {
   "cell_type": "code",
   "execution_count": 2,
   "id": "4a72b9b0-d6e9-49a4-bf4a-6ed2056a77a1",
   "metadata": {},
   "outputs": [
    {
     "name": "stdin",
     "output_type": "stream",
     "text": [
      "Enter the number1: 5\n"
     ]
    },
    {
     "name": "stdout",
     "output_type": "stream",
     "text": [
      "5 * 10 = 50\n",
      "5 * 9 = 45\n",
      "5 * 8 = 40\n",
      "5 * 7 = 35\n",
      "5 * 6 = 30\n",
      "5 * 5 = 25\n",
      "5 * 4 = 20\n",
      "5 * 3 = 15\n",
      "5 * 2 = 10\n",
      "5 * 1 = 5\n"
     ]
    }
   ],
   "source": [
    "number1 = int(input(\"Enter the number1:\"))\n",
    "number2 = 10\n",
    "\n",
    "while number2 >=1:\n",
    "    mul = number1 * number2\n",
    "    print (number1, \"*\", number2, \"=\", mul)\n",
    "    number2 = number2-1"
   ]
  },
  {
   "cell_type": "code",
   "execution_count": 3,
   "id": "21c76638-c328-4c73-a696-e27bb50850d4",
   "metadata": {},
   "outputs": [
    {
     "name": "stdout",
     "output_type": "stream",
     "text": [
      "p\n",
      "y\n",
      "t\n",
      "h\n",
      "o\n",
      "n\n"
     ]
    }
   ],
   "source": [
    "text =\"python\"\n",
    "for characters in text:\n",
    "    print(characters)"
   ]
  },
  {
   "cell_type": "code",
   "execution_count": 2,
   "id": "9154f73d-1f9e-44db-9462-ae4d283a2fea",
   "metadata": {},
   "outputs": [
    {
     "name": "stdout",
     "output_type": "stream",
     "text": [
      "1\n",
      "3\n",
      "6\n",
      "10\n",
      "15\n",
      "21\n",
      "28\n",
      "36\n",
      "45\n"
     ]
    }
   ],
   "source": [
    "count = 0\n",
    "for n in range (1,10) :\n",
    "    count = count + n\n",
    "    print(count)"
   ]
  },
  {
   "cell_type": "code",
   "execution_count": 3,
   "id": "28f502d6-ff94-409a-94a9-5b7b2ab05973",
   "metadata": {},
   "outputs": [
    {
     "name": "stdout",
     "output_type": "stream",
     "text": [
      "1\n",
      "2\n",
      "3\n",
      "4\n",
      "5\n",
      "6\n",
      "7\n",
      "8\n",
      "9\n"
     ]
    }
   ],
   "source": [
    "for count in range(1,10):\n",
    "    print(count)"
   ]
  },
  {
   "cell_type": "markdown",
   "id": "c9e8b786-5a03-44ab-91e8-ebd37659a645",
   "metadata": {},
   "source": [
    "# Multiplication table using for loop"
   ]
  },
  {
   "cell_type": "code",
   "execution_count": 24,
   "id": "f7220051-7aae-40fb-ad7f-38401ce64b9d",
   "metadata": {},
   "outputs": [
    {
     "name": "stdin",
     "output_type": "stream",
     "text": [
      "Enter the number: 1\n"
     ]
    },
    {
     "name": "stdout",
     "output_type": "stream",
     "text": [
      "1 * 1 = 1\n",
      "1 * 2 = 2\n",
      "1 * 3 = 3\n",
      "1 * 4 = 4\n",
      "1 * 5 = 5\n",
      "1 * 6 = 6\n",
      "1 * 7 = 7\n",
      "1 * 8 = 8\n",
      "1 * 9 = 9\n",
      "1 * 10 = 10\n"
     ]
    }
   ],
   "source": [
    "number = int(input(\"Enter the number:\"))\n",
    "\n",
    "for n in range(1,11):\n",
    "    product = number * n\n",
    "    print(number , \"*\", n, \"=\", product)"
   ]
  },
  {
   "cell_type": "markdown",
   "id": "0780ec23-359b-4c49-a3bb-cdea5e519648",
   "metadata": {},
   "source": [
    "# break and continue"
   ]
  },
  {
   "cell_type": "code",
   "execution_count": 9,
   "id": "2c515e03-f7e3-448b-96a7-93cb76cdeda2",
   "metadata": {},
   "outputs": [
    {
     "name": "stdout",
     "output_type": "stream",
     "text": [
      "Hamu bhai \n",
      "Hamu bhai \n",
      "M O D  B H A I\n"
     ]
    }
   ],
   "source": [
    "list = [\"nayeem\", \"hasan\", \"swapnil\",\"sazzad\", \"jhon\"]\n",
    "\n",
    "for item in list:\n",
    "    if item == \"swapnil\":\n",
    "        print(\"M O D  B H A I\")\n",
    "        break\n",
    "    else:\n",
    "        print(\"Hamu bhai \")"
   ]
  },
  {
   "cell_type": "code",
   "execution_count": 10,
   "id": "41272a9c-db1b-4763-8925-4320ac06ef7c",
   "metadata": {},
   "outputs": [
    {
     "name": "stdout",
     "output_type": "stream",
     "text": [
      "Hamu bhai \n",
      "Hamu bhai \n",
      "M O D  B H A I\n",
      "Hamu bhai \n",
      "Hamu bhai \n"
     ]
    }
   ],
   "source": [
    "list = [\"nayeem\", \"hasan\", \"swapnil\",\"sazzad\", \"jhon\"]\n",
    "\n",
    "for item in list:\n",
    "    if item == \"swapnil\":\n",
    "        print(\"M O D  B H A I\")\n",
    "        continue\n",
    "    else:\n",
    "        print(\"Hamu bhai \")"
   ]
  },
  {
   "cell_type": "code",
   "execution_count": 16,
   "id": "abd08212-ef74-4487-bc47-5954c600e64d",
   "metadata": {},
   "outputs": [
    {
     "name": "stdout",
     "output_type": "stream",
     "text": [
      "1\n",
      "2\n",
      "Break it here\n"
     ]
    }
   ],
   "source": [
    "for number in range (1,6):\n",
    "    if number ==3:\n",
    "        print(\"Break it here\")\n",
    "        break\n",
    "    print(number)"
   ]
  },
  {
   "cell_type": "code",
   "execution_count": 18,
   "id": "d88443a8-84fc-46bb-8077-4453c436b792",
   "metadata": {},
   "outputs": [
    {
     "name": "stdout",
     "output_type": "stream",
     "text": [
      "1\n",
      "2\n",
      "continue again\n",
      "4\n",
      "5\n"
     ]
    }
   ],
   "source": [
    "for number in range (1,6):\n",
    "    if number ==3:\n",
    "        print(\"continue again\")\n",
    "        continue\n",
    "    print(number)"
   ]
  },
  {
   "cell_type": "markdown",
   "id": "13d2ba64-55a0-4eb0-b695-7be4789e73fc",
   "metadata": {},
   "source": [
    "# Pass statement"
   ]
  },
  {
   "cell_type": "code",
   "execution_count": 21,
   "id": "8da1bd88-d88c-4c2b-a689-fe31055f5c1a",
   "metadata": {},
   "outputs": [],
   "source": [
    "number = 5.5\n",
    "if number >0.0:\n",
    "    pass          # pass statememnt is basically used when the body of the statement remains empty"
   ]
  },
  {
   "cell_type": "markdown",
   "id": "30aec17c-e4a5-4bb3-9a04-ae4d4ee02405",
   "metadata": {},
   "source": [
    "# Functions"
   ]
  },
  {
   "cell_type": "code",
   "execution_count": 29,
   "id": "56646f03-edca-499c-a046-69bdfb3be21e",
   "metadata": {},
   "outputs": [
    {
     "data": {
      "text/plain": [
       "30"
      ]
     },
     "execution_count": 29,
     "metadata": {},
     "output_type": "execute_result"
    }
   ],
   "source": [
    "def rectangle_area(length, width):\n",
    "    area = length*width\n",
    "    return area\n",
    "rectangle_area(5,6)"
   ]
  },
  {
   "cell_type": "code",
   "execution_count": 30,
   "id": "693cc6e7-5193-4418-8378-080aa3f47db1",
   "metadata": {},
   "outputs": [
    {
     "name": "stdin",
     "output_type": "stream",
     "text": [
      "Enter length: 4\n",
      "Enter width: 6\n"
     ]
    },
    {
     "data": {
      "text/plain": [
       "24"
      ]
     },
     "execution_count": 30,
     "metadata": {},
     "output_type": "execute_result"
    }
   ],
   "source": [
    "length = int(input(\"Enter length:\"))\n",
    "width = int(input(\"Enter width:\"))\n",
    "\n",
    "def rectangle_area(length, width):\n",
    "    area = length*width\n",
    "    return area\n",
    "    \n",
    "rectangle_area(length, width)"
   ]
  },
  {
   "cell_type": "code",
   "execution_count": 34,
   "id": "efd22587-2e91-42f3-800c-ebc94a4af03f",
   "metadata": {},
   "outputs": [
    {
     "name": "stdin",
     "output_type": "stream",
     "text": [
      "Enter the first number: 5\n",
      "Enter the second number: 7\n"
     ]
    },
    {
     "name": "stdout",
     "output_type": "stream",
     "text": [
      "Result is = 12\n"
     ]
    }
   ],
   "source": [
    "num1 = int(input(\"Enter the first number:\"))\n",
    "num2 = int(input(\"Enter the second number:\"))\n",
    "           \n",
    "def add_numbers(num1, num2):\n",
    "    sum = num1 + num2\n",
    "    return sum\n",
    "\n",
    "result = add_numbers(num1, num2)\n",
    "print(\"Result is =\", result)"
   ]
  },
  {
   "cell_type": "code",
   "execution_count": 35,
   "id": "3857f38c-282e-4f98-8937-dac0bb3b8cda",
   "metadata": {},
   "outputs": [
    {
     "data": {
      "text/plain": [
       "[[1, 2, 3, 4, 5, 6], [3, 5, 7, 8, 9, 5]]"
      ]
     },
     "execution_count": 35,
     "metadata": {},
     "output_type": "execute_result"
    }
   ],
   "source": [
    "a = [[1,2,3,4,5,6],\n",
    "     [3,5,7,8,9,5]]\n",
    "a"
   ]
  },
  {
   "cell_type": "code",
   "execution_count": 3,
   "id": "53c94b0b-e8d2-4377-b0c1-4943cf68d60b",
   "metadata": {},
   "outputs": [
    {
     "name": "stdout",
     "output_type": "stream",
     "text": [
      "B\n"
     ]
    }
   ],
   "source": [
    "marks = [55,100,75,85,95]\n",
    "\n",
    "def avg_marks(marks):\n",
    "    avg = sum(marks)/len(marks)\n",
    "    return avg\n",
    "average = avg_marks(marks)\n",
    "\n",
    "def grades(average):\n",
    "    if average>= 90:\n",
    "        print(\"A\")\n",
    "    elif average >=80:\n",
    "        print(\"B\")\n",
    "    elif average >=70:\n",
    "        print(\"C\")\n",
    "    elif average >=60:\n",
    "        print(\"D\")\n",
    "    else:\n",
    "        print(\"F\")\n",
    "        \n",
    "grades(average)\n"
   ]
  },
  {
   "cell_type": "markdown",
   "id": "2205060d-285a-46be-8b5a-775549070979",
   "metadata": {},
   "source": [
    "# Finding sum of n numbers "
   ]
  },
  {
   "cell_type": "code",
   "execution_count": 1,
   "id": "f6ae1dab-a301-4071-9b44-0982ff0f19a2",
   "metadata": {},
   "outputs": [
    {
     "name": "stdin",
     "output_type": "stream",
     "text": [
      "Enter n: 9\n"
     ]
    },
    {
     "name": "stdout",
     "output_type": "stream",
     "text": [
      "i = 1 summ= 1\n",
      "i = 2 summ= 3\n",
      "i = 3 summ= 6\n",
      "i = 4 summ= 10\n",
      "i = 5 summ= 15\n",
      "i = 6 summ= 21\n",
      "i = 7 summ= 28\n",
      "i = 8 summ= 36\n"
     ]
    }
   ],
   "source": [
    "n = int(input(\"Enter n:\"))\n",
    "def summofnum(n):\n",
    "    \n",
    "    summ=0\n",
    "    \n",
    "    for i in range (1,n):\n",
    "        \n",
    "        summ = summ+i\n",
    "        print(\"i =\",i,\"summ=\",  summ)\n",
    "summofnum(n)    "
   ]
  },
  {
   "cell_type": "code",
   "execution_count": 29,
   "id": "3650a9e7-6efb-4400-abd8-aa4e4f8049ad",
   "metadata": {},
   "outputs": [
    {
     "name": "stdout",
     "output_type": "stream",
     "text": [
      "a dot c \n",
      "\n",
      "    0\n",
      "0  25\n",
      "1  20\n",
      "2  15\n",
      "3  10\n",
      "4   5\n",
      "Minimum value is : 5\n",
      "a dot c \n",
      "\n",
      "    0\n",
      "0  20\n",
      "1  16\n",
      "2  12\n",
      "3   8\n",
      "4   4\n",
      "Minimum value is : 4\n",
      "a dot c \n",
      "\n",
      "    0\n",
      "0  15\n",
      "1  12\n",
      "2   9\n",
      "3   6\n",
      "4   3\n",
      "Minimum value is : 3\n",
      "a dot c \n",
      "\n",
      "    0\n",
      "0  10\n",
      "1   8\n",
      "2   6\n",
      "3   4\n",
      "4   2\n",
      "Minimum value is : 2\n",
      "a dot c \n",
      "\n",
      "   0\n",
      "0  5\n",
      "1  4\n",
      "2  3\n",
      "3  2\n",
      "4  1\n",
      "Minimum value is : 1\n",
      "a dot c \n",
      "\n",
      "    0\n",
      "0  60\n",
      "1  48\n",
      "2  36\n",
      "3  24\n",
      "4  12\n",
      "Minimum value is : 12\n",
      "a dot c \n",
      "\n",
      "    0\n",
      "0  10\n",
      "1   8\n",
      "2   6\n",
      "3   4\n",
      "4   2\n",
      "Minimum value is : 2\n",
      "a dot c \n",
      "\n",
      "    0\n",
      "0  15\n",
      "1  12\n",
      "2   9\n",
      "3   6\n",
      "4   3\n",
      "Minimum value is : 3\n",
      "a dot c \n",
      "\n",
      "    0\n",
      "0  20\n",
      "1  16\n",
      "2  12\n",
      "3   8\n",
      "4   4\n",
      "Minimum value is : 4\n",
      "a dot c \n",
      "\n",
      "    0\n",
      "0  20\n",
      "1  16\n",
      "2  12\n",
      "3   8\n",
      "4   4\n",
      "Minimum value is : 4\n"
     ]
    }
   ],
   "source": [
    "import pandas as pd\n",
    "import numpy as np\n",
    "\n",
    "a = np.array([[5],[4],[3],[2],[1]])\n",
    "b = np.array([5,4,3,2,1,12,2,3,4,4])\n",
    "\n",
    "for items in range(len(b)):\n",
    "    \n",
    "    for i in np.take(b,[items]):\n",
    "        c = np.array([[i]])\n",
    "    #print(c.shape)\n",
    "    print(\"a\", \"dot\", \"c\", \"\\n\")\n",
    "    df = pd.DataFrame(a.dot(c))\n",
    "    print(df)\n",
    "    print(\"Minimum value is :\", df[0].min())\n",
    "        \n",
    "    \n",
    "    "
   ]
  },
  {
   "cell_type": "code",
   "execution_count": 2,
   "id": "432e9b03",
   "metadata": {},
   "outputs": [
    {
     "data": {
      "text/plain": [
       "(5, 1)"
      ]
     },
     "execution_count": 2,
     "metadata": {},
     "output_type": "execute_result"
    }
   ],
   "source": [
    "a = np.array([[5],[4],[3],[2],[1]])\n",
    "a.shape"
   ]
  },
  {
   "cell_type": "code",
   "execution_count": 3,
   "id": "59066bdb",
   "metadata": {},
   "outputs": [
    {
     "data": {
      "text/plain": [
       "(10,)"
      ]
     },
     "execution_count": 3,
     "metadata": {},
     "output_type": "execute_result"
    }
   ],
   "source": [
    "b = np.array([5,4,3,2,1,12,2,3,4,4])\n",
    "b.shape\n"
   ]
  },
  {
   "cell_type": "code",
   "execution_count": 4,
   "id": "5874d372",
   "metadata": {},
   "outputs": [
    {
     "data": {
      "text/plain": [
       "array([[25],\n",
       "       [20],\n",
       "       [15],\n",
       "       [10],\n",
       "       [ 5]])"
      ]
     },
     "execution_count": 4,
     "metadata": {},
     "output_type": "execute_result"
    }
   ],
   "source": [
    "a.dot(b[0])\n"
   ]
  },
  {
   "cell_type": "code",
   "execution_count": 9,
   "id": "1ca9f088",
   "metadata": {},
   "outputs": [
    {
     "data": {
      "text/plain": [
       "5"
      ]
     },
     "execution_count": 9,
     "metadata": {},
     "output_type": "execute_result"
    }
   ],
   "source": [
    "a.dot(b[1])\n",
    "len(a)"
   ]
  },
  {
   "cell_type": "code",
   "execution_count": 28,
   "id": "cf68ac25",
   "metadata": {},
   "outputs": [
    {
     "name": "stdout",
     "output_type": "stream",
     "text": [
      "a dot c \n",
      "\n",
      "    0\n",
      "0  25\n",
      "1  20\n",
      "2  15\n",
      "3  10\n",
      "4   5\n",
      "Minimum value is : 5\n",
      "a dot c \n",
      "\n",
      "    0\n",
      "0  20\n",
      "1  16\n",
      "2  12\n",
      "3   8\n",
      "4   4\n",
      "Minimum value is : 4\n",
      "a dot c \n",
      "\n",
      "    0\n",
      "0  15\n",
      "1  12\n",
      "2   9\n",
      "3   6\n",
      "4   3\n",
      "Minimum value is : 3\n",
      "a dot c \n",
      "\n",
      "    0\n",
      "0  10\n",
      "1   8\n",
      "2   6\n",
      "3   4\n",
      "4   2\n",
      "Minimum value is : 2\n",
      "a dot c \n",
      "\n",
      "   0\n",
      "0  5\n",
      "1  4\n",
      "2  3\n",
      "3  2\n",
      "4  1\n",
      "Minimum value is : 1\n",
      "a dot c \n",
      "\n",
      "    0\n",
      "0  60\n",
      "1  48\n",
      "2  36\n",
      "3  24\n",
      "4  12\n",
      "Minimum value is : 12\n",
      "a dot c \n",
      "\n",
      "    0\n",
      "0  10\n",
      "1   8\n",
      "2   6\n",
      "3   4\n",
      "4   2\n",
      "Minimum value is : 2\n",
      "a dot c \n",
      "\n",
      "    0\n",
      "0  15\n",
      "1  12\n",
      "2   9\n",
      "3   6\n",
      "4   3\n",
      "Minimum value is : 3\n",
      "a dot c \n",
      "\n",
      "    0\n",
      "0  20\n",
      "1  16\n",
      "2  12\n",
      "3   8\n",
      "4   4\n",
      "Minimum value is : 4\n",
      "a dot c \n",
      "\n",
      "    0\n",
      "0  20\n",
      "1  16\n",
      "2  12\n",
      "3   8\n",
      "4   4\n",
      "Minimum value is : 4\n"
     ]
    }
   ],
   "source": [
    "for items in range(len(b)):\n",
    "    \n",
    "    for i in np.take(b,[items]):\n",
    "        c = np.array([[i]])\n",
    "    #print(c.shape)\n",
    "    print(\"a\", \"dot\", \"c\", \"\\n\")\n",
    "    df = pd.DataFrame(a.dot(c))\n",
    "    print(df)\n",
    "    print(\"Minimum value is :\", df[0].min())\n",
    "        \n",
    "    \n",
    "    \n",
    "#     print(items)\n",
    "\n",
    "# for i in np.take(b,[items]):\n",
    "#     c = np.array([[i]])\n",
    "#     print(c.shape)\n",
    "#     print(a.dot(c))    "
   ]
  },
  {
   "cell_type": "code",
   "execution_count": null,
   "id": "254f1c4f",
   "metadata": {},
   "outputs": [],
   "source": [
    "pd.to_datetime()"
   ]
  },
  {
   "cell_type": "code",
   "execution_count": null,
   "id": "b2806c28",
   "metadata": {},
   "outputs": [],
   "source": []
  }
 ],
 "metadata": {
  "kernelspec": {
   "display_name": "Python 3 (ipykernel)",
   "language": "python",
   "name": "python3"
  },
  "language_info": {
   "codemirror_mode": {
    "name": "ipython",
    "version": 3
   },
   "file_extension": ".py",
   "mimetype": "text/x-python",
   "name": "python",
   "nbconvert_exporter": "python",
   "pygments_lexer": "ipython3",
   "version": "3.10.4"
  }
 },
 "nbformat": 4,
 "nbformat_minor": 5
}
